{
 "cells": [
  {
   "cell_type": "code",
   "execution_count": 1,
   "metadata": {},
   "outputs": [
    {
     "name": "stdout",
     "output_type": "stream",
     "text": [
      "salom. Bu mening birinchi Python saytim\n"
     ]
    }
   ],
   "source": [
    "print (\"salom. Bu mening birinchi Python saytim\")"
   ]
  },
  {
   "cell_type": "code",
   "execution_count": 3,
   "metadata": {},
   "outputs": [
    {
     "name": "stdout",
     "output_type": "stream",
     "text": [
      "10\n",
      "12\n"
     ]
    }
   ],
   "source": [
    "a = 10\n",
    "b = 12\n",
    "print (a)\n",
    "print (b)"
   ]
  },
  {
   "cell_type": "code",
   "execution_count": 3,
   "metadata": {},
   "outputs": [
    {
     "name": "stdout",
     "output_type": "stream",
     "text": [
      "22\n"
     ]
    }
   ],
   "source": [
    "s = a+b\n",
    "print (s)"
   ]
  },
  {
   "cell_type": "code",
   "execution_count": 4,
   "metadata": {},
   "outputs": [
    {
     "ename": "NameError",
     "evalue": "name 'write' is not defined",
     "output_type": "error",
     "traceback": [
      "\u001b[1;31m---------------------------------------------------------------------------\u001b[0m",
      "\u001b[1;31mNameError\u001b[0m                                 Traceback (most recent call last)",
      "\u001b[1;32m<ipython-input-4-64224722b92a>\u001b[0m in \u001b[0;36m<module>\u001b[1;34m\u001b[0m\n\u001b[1;32m----> 1\u001b[1;33m \u001b[0mwrite\u001b[0m \u001b[1;33m(\u001b[0m\u001b[0ms\u001b[0m\u001b[1;33m)\u001b[0m\u001b[1;33m\u001b[0m\u001b[1;33m\u001b[0m\u001b[0m\n\u001b[0m",
      "\u001b[1;31mNameError\u001b[0m: name 'write' is not defined"
     ]
    }
   ],
   "source": [
    "write (s)"
   ]
  },
  {
   "cell_type": "code",
   "execution_count": 5,
   "metadata": {},
   "outputs": [
    {
     "ename": "SyntaxError",
     "evalue": "expression cannot contain assignment, perhaps you meant \"==\"? (<ipython-input-5-584a7696c370>, line 1)",
     "output_type": "error",
     "traceback": [
      "\u001b[1;36m  File \u001b[1;32m\"<ipython-input-5-584a7696c370>\"\u001b[1;36m, line \u001b[1;32m1\u001b[0m\n\u001b[1;33m    print(2+2=4)\u001b[0m\n\u001b[1;37m          ^\u001b[0m\n\u001b[1;31mSyntaxError\u001b[0m\u001b[1;31m:\u001b[0m expression cannot contain assignment, perhaps you meant \"==\"?\n"
     ]
    }
   ],
   "source": [
    "print(2+2=4)"
   ]
  },
  {
   "cell_type": "code",
   "execution_count": 6,
   "metadata": {},
   "outputs": [
    {
     "ename": "SyntaxError",
     "evalue": "invalid syntax (<ipython-input-6-2c870337f019>, line 1)",
     "output_type": "error",
     "traceback": [
      "\u001b[1;36m  File \u001b[1;32m\"<ipython-input-6-2c870337f019>\"\u001b[1;36m, line \u001b[1;32m1\u001b[0m\n\u001b[1;33m    print(2'+'2'='4)\u001b[0m\n\u001b[1;37m           ^\u001b[0m\n\u001b[1;31mSyntaxError\u001b[0m\u001b[1;31m:\u001b[0m invalid syntax\n"
     ]
    }
   ],
   "source": [
    "print(2'+'2'='4)"
   ]
  },
  {
   "cell_type": "code",
   "execution_count": 7,
   "metadata": {},
   "outputs": [
    {
     "ename": "SyntaxError",
     "evalue": "invalid syntax (<ipython-input-7-6fc6cdf53efc>, line 1)",
     "output_type": "error",
     "traceback": [
      "\u001b[1;36m  File \u001b[1;32m\"<ipython-input-7-6fc6cdf53efc>\"\u001b[1;36m, line \u001b[1;32m1\u001b[0m\n\u001b[1;33m    print(2\"+\"2\"=\"4)\u001b[0m\n\u001b[1;37m           ^\u001b[0m\n\u001b[1;31mSyntaxError\u001b[0m\u001b[1;31m:\u001b[0m invalid syntax\n"
     ]
    }
   ],
   "source": [
    "print(2\"+\"2\"=\"4)"
   ]
  },
  {
   "cell_type": "code",
   "execution_count": 8,
   "metadata": {},
   "outputs": [
    {
     "name": "stdout",
     "output_type": "stream",
     "text": [
      "2+2=4\n"
     ]
    }
   ],
   "source": [
    "print(\"2+2=4\")"
   ]
  },
  {
   "cell_type": "code",
   "execution_count": 10,
   "metadata": {},
   "outputs": [
    {
     "name": "stdout",
     "output_type": "stream",
     "text": [
      "6\n"
     ]
    }
   ],
   "source": [
    "a=2\n",
    "b=4\n",
    "c=a+b\n",
    "print(c)"
   ]
  },
  {
   "cell_type": "code",
   "execution_count": 11,
   "metadata": {},
   "outputs": [
    {
     "name": "stdout",
     "output_type": "stream",
     "text": [
      "hello Wor'ld!\n"
     ]
    }
   ],
   "source": [
    "print(\"hello Wor'ld!\")"
   ]
  },
  {
   "cell_type": "code",
   "execution_count": 1,
   "metadata": {},
   "outputs": [
    {
     "name": "stdout",
     "output_type": "stream",
     "text": [
      "<class 'int'>\n"
     ]
    }
   ],
   "source": [
    "print(type(6))"
   ]
  },
  {
   "cell_type": "code",
   "execution_count": 2,
   "metadata": {},
   "outputs": [
    {
     "name": "stdout",
     "output_type": "stream",
     "text": [
      "<class 'int'>\n",
      "<class 'float'>\n",
      "<class 'str'>\n"
     ]
    }
   ],
   "source": [
    "print(type(6))\n",
    "print(type(6.6))\n",
    "print(type(\"Salom\"))"
   ]
  },
  {
   "cell_type": "code",
   "execution_count": 2,
   "metadata": {},
   "outputs": [
    {
     "name": "stdout",
     "output_type": "stream",
     "text": [
      "\n",
      "Switching on the camera in the camel habitat...\n",
      " ___.-''''-.\n",
      "/___  @    |\n",
      "',,,,.     |         _.'''''''._\n",
      "     '     |        /           \\\\\n",
      "     |     \\\\    _.-'             \\\\\n",
      "     |      '.-'                  '-.\n",
      "     |                               ',\n",
      "     |                                '',\n",
      "      ',,-,                           ':;\n",
      "           ',,| ;,,                 ,' ;;\n",
      "              ! ; !'',,,',',,,,'!  ;   ;:\n",
      "             : ;  ! !       ! ! ;  ;   :;\n",
      "             ; ;   ! !      ! !  ; ;   ;,\n",
      "            ; ;    ! !     ! !   ; ;\n",
      "            ; ;    ! !    ! !     ; ;\n",
      "           ;,,      !,!   !,!     ;,;\n",
      "           /_I      L_I   L_I     /_I\n",
      "Look at that! Our little camel is sunbathing!\n"
     ]
    }
   ],
   "source": [
    "print(r\"\"\"\n",
    "Switching on the camera in the camel habitat...\n",
    " ___.-''''-.\n",
    "/___  @    |\n",
    "',,,,.     |         _.'''''''._\n",
    "     '     |        /           \\\\\n",
    "     |     \\\\    _.-'             \\\\\n",
    "     |      '.-'                  '-.\n",
    "     |                               ',\n",
    "     |                                '',\n",
    "      ',,-,                           ':;\n",
    "           ',,| ;,,                 ,' ;;\n",
    "              ! ; !'',,,',',,,,'!  ;   ;:\n",
    "             : ;  ! !       ! ! ;  ;   :;\n",
    "             ; ;   ! !      ! !  ; ;   ;,\n",
    "            ; ;    ! !     ! !   ; ;\n",
    "            ; ;    ! !    ! !     ; ;\n",
    "           ;,,      !,!   !,!     ;,;\n",
    "           /_I      L_I   L_I     /_I\n",
    "Look at that! Our little camel is sunbathing!\"\"\")"
   ]
  },
  {
   "cell_type": "code",
   "execution_count": 3,
   "metadata": {},
   "outputs": [
    {
     "name": "stdout",
     "output_type": "stream",
     "text": [
      " ___.-''''-.\n",
      "/___  @    |\n",
      "',,,,.     |         _.'''''''._\n",
      "     '     |        /           \\\\\n",
      "     |     \\\\    _.-'             \\\\\n",
      "     |      '.-'                  '-.\n",
      "     |                               ',\n",
      "     |                                '',\n",
      "      ',,-,                           ':;\n",
      "           ',,| ;,,                 ,' ;;\n",
      "              ! ; !'',,,',',,,,'!  ;   ;:\n",
      "             : ;  ! !       ! ! ;  ;   :;\n",
      "             ; ;   ! !      ! !  ; ;   ;,\n",
      "            ; ;    ! !     ! !   ; ;\n",
      "            ; ;    ! !    ! !     ; ;\n",
      "           ;,,      !,!   !,!     ;,;\n",
      "           /_I      L_I   L_I     /_I\n"
     ]
    }
   ],
   "source": [
    "# Switching on the camera in the camel habitat...\n",
    "print(r\"\"\" ___.-''''-.\n",
    "/___  @    |\n",
    "',,,,.     |         _.'''''''._\n",
    "     '     |        /           \\\\\n",
    "     |     \\\\    _.-'             \\\\\n",
    "     |      '.-'                  '-.\n",
    "     |                               ',\n",
    "     |                                '',\n",
    "      ',,-,                           ':;\n",
    "           ',,| ;,,                 ,' ;;\n",
    "              ! ; !'',,,',',,,,'!  ;   ;:\n",
    "             : ;  ! !       ! ! ;  ;   :;\n",
    "             ; ;   ! !      ! !  ; ;   ;,\n",
    "            ; ;    ! !     ! !   ; ;\n",
    "            ; ;    ! !    ! !     ; ;\n",
    "           ;,,      !,!   !,!     ;,;\n",
    "           /_I      L_I   L_I     /_I\"\"\")\n",
    "# Look at that! Our little camel is sunbathing!"
   ]
  },
  {
   "cell_type": "code",
   "execution_count": 4,
   "metadata": {},
   "outputs": [
    {
     "name": "stdout",
     "output_type": "stream",
     "text": [
      " ___.-''''-.\n",
      "/___  @    |\n",
      "',,,,.     |         _.'''''''._\n",
      "     '     |        /           \\\n",
      "     |     \\    _.-'             \\\n",
      "     |      '.-'                  '-.\n",
      "     |                               ',\n",
      "     |                                '',\n",
      "      ',,-,                           ':;\n",
      "           ',,| ;,,                 ,' ;;\n",
      "              ! ; !'',,,',',,,,'!  ;   ;:\n",
      "             : ;  ! !       ! ! ;  ;   :;\n",
      "             ; ;   ! !      ! !  ; ;   ;,\n",
      "            ; ;    ! !     ! !   ; ;\n",
      "            ; ;    ! !    ! !     ; ;\n",
      "           ;,,      !,!   !,!     ;,;\n",
      "           /_I      L_I   L_I     /_I\n"
     ]
    }
   ],
   "source": [
    "# Switching on the camera in the camel habitat...\n",
    "print(r\"\"\" ___.-''''-.\n",
    "/___  @    |\n",
    "',,,,.     |         _.'''''''._\n",
    "     '     |        /           \\\n",
    "     |     \\    _.-'             \\\n",
    "     |      '.-'                  '-.\n",
    "     |                               ',\n",
    "     |                                '',\n",
    "      ',,-,                           ':;\n",
    "           ',,| ;,,                 ,' ;;\n",
    "              ! ; !'',,,',',,,,'!  ;   ;:\n",
    "             : ;  ! !       ! ! ;  ;   :;\n",
    "             ; ;   ! !      ! !  ; ;   ;,\n",
    "            ; ;    ! !     ! !   ; ;\n",
    "            ; ;    ! !    ! !     ; ;\n",
    "           ;,,      !,!   !,!     ;,;\n",
    "           /_I      L_I   L_I     /_I\"\"\")\n",
    "# Look at that! Our little camel is sunbathing!"
   ]
  },
  {
   "cell_type": "code",
   "execution_count": 5,
   "metadata": {},
   "outputs": [
    {
     "name": "stdout",
     "output_type": "stream",
     "text": [
      " ___.-''''-.\n",
      "/___  @    |\n",
      "',,,,.     |         _.'''''''._\n",
      "     '     |        /           \\\n",
      "     |     \\    _.-'             \\\n",
      "     |      '.-'                  '-.\n",
      "     |                               ',\n",
      "     |                                '',\n",
      "      ',,-,                           ':;\n",
      "           ',,| ;,,                 ,' ;;\n",
      "              ! ; !'',,,',',,,,'!  ;   ;:\n",
      "             : ;  ! !       ! ! ;  ;   :;\n",
      "             ; ;   ! !      ! !  ; ;   ;,\n",
      "            ; ;    ! !     ! !   ; ;\n",
      "            ; ;    ! !    ! !     ; ;\n",
      "           ;,,      !,!   !,!     ;,;\n",
      "           /_I      L_I   L_I     /_I\n"
     ]
    }
   ],
   "source": [
    "# Switching on the camera in the camel habitat...\n",
    "print(r\"\"\" ___.-''''-.\n",
    "/___  @    |\n",
    "',,,,.     |         _.'''''''._\n",
    "     '     |        /           \\\n",
    "     |     \\    _.-'             \\\n",
    "     |      '.-'                  '-.\n",
    "     |                               ',\n",
    "     |                                '',\n",
    "      ',,-,                           ':;\n",
    "           ',,| ;,,                 ,' ;;\n",
    "              ! ; !'',,,',',,,,'!  ;   ;:\n",
    "             : ;  ! !       ! ! ;  ;   :;\n",
    "             ; ;   ! !      ! !  ; ;   ;,\n",
    "            ; ;    ! !     ! !   ; ;\n",
    "            ; ;    ! !    ! !     ; ;\n",
    "           ;,,      !,!   !,!     ;,;\n",
    "           /_I      L_I   L_I     /_I\"\"\")\n",
    "# Look at that! Our little camel is sunbathing!\n"
   ]
  },
  {
   "cell_type": "code",
   "execution_count": 6,
   "metadata": {},
   "outputs": [
    {
     "name": "stdout",
     "output_type": "stream",
     "text": [
      "10\n"
     ]
    }
   ],
   "source": [
    "number = 10\n",
    "print(number)"
   ]
  },
  {
   "cell_type": "code",
   "execution_count": 4,
   "metadata": {},
   "outputs": [
    {
     "ename": "KeyboardInterrupt",
     "evalue": "Interrupted by user",
     "output_type": "error",
     "traceback": [
      "\u001b[1;31m---------------------------------------------------------------------------\u001b[0m",
      "\u001b[1;31mKeyboardInterrupt\u001b[0m                         Traceback (most recent call last)",
      "\u001b[1;32m<ipython-input-4-6affc1ea8f34>\u001b[0m in \u001b[0;36m<module>\u001b[1;34m\u001b[0m\n\u001b[1;32m----> 1\u001b[1;33m \u001b[0ma\u001b[0m \u001b[1;33m=\u001b[0m \u001b[0mint\u001b[0m\u001b[1;33m(\u001b[0m\u001b[0minput\u001b[0m\u001b[1;33m(\u001b[0m\u001b[1;33m)\u001b[0m\u001b[1;33m)\u001b[0m\u001b[1;33m\u001b[0m\u001b[1;33m\u001b[0m\u001b[0m\n\u001b[0m\u001b[0;32m      2\u001b[0m \u001b[0mb\u001b[0m \u001b[1;33m=\u001b[0m \u001b[0mint\u001b[0m\u001b[1;33m(\u001b[0m\u001b[0minput\u001b[0m\u001b[1;33m(\u001b[0m\u001b[1;33m)\u001b[0m\u001b[1;33m)\u001b[0m\u001b[1;33m\u001b[0m\u001b[1;33m\u001b[0m\u001b[0m\n\u001b[0;32m      3\u001b[0m \u001b[0mc\u001b[0m \u001b[1;33m=\u001b[0m \u001b[0mint\u001b[0m\u001b[1;33m(\u001b[0m\u001b[0minput\u001b[0m\u001b[1;33m(\u001b[0m\u001b[1;33m)\u001b[0m\u001b[1;33m)\u001b[0m\u001b[1;33m\u001b[0m\u001b[1;33m\u001b[0m\u001b[0m\n\u001b[0;32m      4\u001b[0m \u001b[0mprint\u001b[0m\u001b[1;33m(\u001b[0m\u001b[0ma\u001b[0m\u001b[1;33m+\u001b[0m\u001b[0mb\u001b[0m\u001b[1;33m+\u001b[0m\u001b[0mc\u001b[0m\u001b[1;33m)\u001b[0m\u001b[1;33m\u001b[0m\u001b[1;33m\u001b[0m\u001b[0m\n",
      "\u001b[1;32mC:\\ProgramData\\Anaconda3\\lib\\site-packages\\ipykernel\\kernelbase.py\u001b[0m in \u001b[0;36mraw_input\u001b[1;34m(self, prompt)\u001b[0m\n\u001b[0;32m    858\u001b[0m                 \u001b[1;34m\"raw_input was called, but this frontend does not support input requests.\"\u001b[0m\u001b[1;33m\u001b[0m\u001b[1;33m\u001b[0m\u001b[0m\n\u001b[0;32m    859\u001b[0m             )\n\u001b[1;32m--> 860\u001b[1;33m         return self._input_request(str(prompt),\n\u001b[0m\u001b[0;32m    861\u001b[0m             \u001b[0mself\u001b[0m\u001b[1;33m.\u001b[0m\u001b[0m_parent_ident\u001b[0m\u001b[1;33m,\u001b[0m\u001b[1;33m\u001b[0m\u001b[1;33m\u001b[0m\u001b[0m\n\u001b[0;32m    862\u001b[0m             \u001b[0mself\u001b[0m\u001b[1;33m.\u001b[0m\u001b[0m_parent_header\u001b[0m\u001b[1;33m,\u001b[0m\u001b[1;33m\u001b[0m\u001b[1;33m\u001b[0m\u001b[0m\n",
      "\u001b[1;32mC:\\ProgramData\\Anaconda3\\lib\\site-packages\\ipykernel\\kernelbase.py\u001b[0m in \u001b[0;36m_input_request\u001b[1;34m(self, prompt, ident, parent, password)\u001b[0m\n\u001b[0;32m    902\u001b[0m             \u001b[1;32mexcept\u001b[0m \u001b[0mKeyboardInterrupt\u001b[0m\u001b[1;33m:\u001b[0m\u001b[1;33m\u001b[0m\u001b[1;33m\u001b[0m\u001b[0m\n\u001b[0;32m    903\u001b[0m                 \u001b[1;31m# re-raise KeyboardInterrupt, to truncate traceback\u001b[0m\u001b[1;33m\u001b[0m\u001b[1;33m\u001b[0m\u001b[1;33m\u001b[0m\u001b[0m\n\u001b[1;32m--> 904\u001b[1;33m                 \u001b[1;32mraise\u001b[0m \u001b[0mKeyboardInterrupt\u001b[0m\u001b[1;33m(\u001b[0m\u001b[1;34m\"Interrupted by user\"\u001b[0m\u001b[1;33m)\u001b[0m \u001b[1;32mfrom\u001b[0m \u001b[1;32mNone\u001b[0m\u001b[1;33m\u001b[0m\u001b[1;33m\u001b[0m\u001b[0m\n\u001b[0m\u001b[0;32m    905\u001b[0m             \u001b[1;32mexcept\u001b[0m \u001b[0mException\u001b[0m \u001b[1;32mas\u001b[0m \u001b[0me\u001b[0m\u001b[1;33m:\u001b[0m\u001b[1;33m\u001b[0m\u001b[1;33m\u001b[0m\u001b[0m\n\u001b[0;32m    906\u001b[0m                 \u001b[0mself\u001b[0m\u001b[1;33m.\u001b[0m\u001b[0mlog\u001b[0m\u001b[1;33m.\u001b[0m\u001b[0mwarning\u001b[0m\u001b[1;33m(\u001b[0m\u001b[1;34m\"Invalid Message:\"\u001b[0m\u001b[1;33m,\u001b[0m \u001b[0mexc_info\u001b[0m\u001b[1;33m=\u001b[0m\u001b[1;32mTrue\u001b[0m\u001b[1;33m)\u001b[0m\u001b[1;33m\u001b[0m\u001b[1;33m\u001b[0m\u001b[0m\n",
      "\u001b[1;31mKeyboardInterrupt\u001b[0m: Interrupted by user"
     ]
    }
   ],
   "source": [
    "a = int(input())\n",
    "b = int(input())\n",
    "c = int(input())\n",
    "print(a+b+c)"
   ]
  },
  {
   "cell_type": "code",
   "execution_count": 8,
   "metadata": {},
   "outputs": [
    {
     "name": "stdout",
     "output_type": "stream",
     "text": [
      "Muhammad\n",
      "Hello Muhammad\n"
     ]
    }
   ],
   "source": [
    "a = input()\n",
    "print(\"Hello \"+a)"
   ]
  },
  {
   "cell_type": "code",
   "execution_count": 9,
   "metadata": {},
   "outputs": [
    {
     "name": "stdout",
     "output_type": "stream",
     "text": [
      "5\n",
      "la\n",
      "la 5\n"
     ]
    }
   ],
   "source": [
    "a = int(input())\n",
    "b = input()\n",
    "print(b+a)\n"
   ]
  },
  {
   "cell_type": "code",
   "execution_count": 10,
   "metadata": {},
   "outputs": [
    {
     "name": "stdout",
     "output_type": "stream",
     "text": [
      "5\n",
      "la\n"
     ]
    },
    {
     "ename": "TypeError",
     "evalue": "can only concatenate str (not \"int\") to str",
     "output_type": "error",
     "traceback": [
      "\u001b[1;31m---------------------------------------------------------------------------\u001b[0m",
      "\u001b[1;31mTypeError\u001b[0m                                 Traceback (most recent call last)",
      "\u001b[1;32m<ipython-input-10-3d86f505e05c>\u001b[0m in \u001b[0;36m<module>\u001b[1;34m\u001b[0m\n\u001b[0;32m      1\u001b[0m \u001b[0ma\u001b[0m \u001b[1;33m=\u001b[0m \u001b[0mint\u001b[0m\u001b[1;33m(\u001b[0m\u001b[0minput\u001b[0m\u001b[1;33m(\u001b[0m\u001b[1;33m)\u001b[0m\u001b[1;33m)\u001b[0m\u001b[1;33m\u001b[0m\u001b[1;33m\u001b[0m\u001b[0m\n\u001b[0;32m      2\u001b[0m \u001b[0mb\u001b[0m \u001b[1;33m=\u001b[0m \u001b[0minput\u001b[0m\u001b[1;33m(\u001b[0m\u001b[1;33m)\u001b[0m\u001b[1;33m\u001b[0m\u001b[1;33m\u001b[0m\u001b[0m\n\u001b[1;32m----> 3\u001b[1;33m \u001b[0mprint\u001b[0m\u001b[1;33m(\u001b[0m\u001b[0mb\u001b[0m\u001b[1;33m+\u001b[0m\u001b[0ma\u001b[0m\u001b[1;33m)\u001b[0m\u001b[1;33m\u001b[0m\u001b[1;33m\u001b[0m\u001b[0m\n\u001b[0m",
      "\u001b[1;31mTypeError\u001b[0m: can only concatenate str (not \"int\") to str"
     ]
    }
   ],
   "source": [
    "a = int(input())\n",
    "b = input()\n",
    "print(b+a)\n"
   ]
  },
  {
   "cell_type": "code",
   "execution_count": 11,
   "metadata": {},
   "outputs": [
    {
     "name": "stdout",
     "output_type": "stream",
     "text": [
      "5\n",
      "la\n",
      "lalalalala\n"
     ]
    }
   ],
   "source": [
    "a = int(input())\n",
    "b = input()\n",
    "print(b*a)\n"
   ]
  },
  {
   "cell_type": "code",
   "execution_count": 3,
   "metadata": {},
   "outputs": [
    {
     "name": "stdout",
     "output_type": "stream",
     "text": [
      "9\n",
      "10\n",
      "8\n",
      "8\n"
     ]
    }
   ],
   "source": [
    "jack_age = int(input())\n",
    "alex_age = int(input())\n",
    "lana_age = int(input())\n",
    "if jack_age < alex_age and jack_age < lana_age:\n",
    "    print(jack_age)\n",
    "elif alex_age < jack_age and alex_age < lana_age:\n",
    "    print(alex_age)\n",
    "elif lana_age < jack_age and lana_age < alex_age:\n",
    "    print(lana_age)"
   ]
  },
  {
   "cell_type": "code",
   "execution_count": 5,
   "metadata": {},
   "outputs": [
    {
     "name": "stdout",
     "output_type": "stream",
     "text": [
      "H A N G M A N\n",
      "The game will be available soon.\n",
      "Guess the word: > jawa\n",
      "You lost!\n"
     ]
    }
   ],
   "source": [
    "print(\"H A N G M A N\")\n",
    "print(\"The game will be available soon.\")\n",
    "a = input(\"Guess the word: > \")\n",
    "if a == \"python\":\n",
    "    print(\"You survived!\")\n",
    "else:\n",
    "    print(\"You lost!\")\n"
   ]
  },
  {
   "cell_type": "code",
   "execution_count": 8,
   "metadata": {},
   "outputs": [
    {
     "name": "stdout",
     "output_type": "stream",
     "text": [
      "14 15 16\n",
      "16\n"
     ]
    }
   ],
   "source": [
    "numbers = tuple(int(n) for n in input().split())\n",
    "print(numbers[-1])"
   ]
  },
  {
   "cell_type": "code",
   "execution_count": 9,
   "metadata": {},
   "outputs": [
    {
     "name": "stdout",
     "output_type": "stream",
     "text": [
      "Bozorov\n",
      "Muhammad\n",
      "<class 'tuple'>\n"
     ]
    }
   ],
   "source": [
    "first_name = input()\n",
    "last_name = input()\n",
    "full_name = (first_name, last_name)\n",
    "print(type(full_name))"
   ]
  },
  {
   "cell_type": "code",
   "execution_count": 10,
   "metadata": {},
   "outputs": [
    {
     "name": "stdout",
     "output_type": "stream",
     "text": [
      "<class 'tuple'>\n"
     ]
    }
   ],
   "source": [
    "singleton = (0, 1, 1, 2, 3, 5, 8, 13, 21)\n",
    "print(type(singleton))"
   ]
  },
  {
   "cell_type": "code",
   "execution_count": 21,
   "metadata": {},
   "outputs": [
    {
     "name": "stdout",
     "output_type": "stream",
     "text": [
      "Sid\n",
      "Nancy\n",
      "Hello, Sid and Sid\n",
      "Hello, Nancy and Nancy\n"
     ]
    }
   ],
   "source": [
    "def greeting(name_1, name_2):\n",
    "    print(\"Hello,\", name_1, \"and\", name_1)\n",
    "name_1 = input()\n",
    "name_2 = input()\n",
    "greeting(name_1, name_2)\n",
    "greeting(name_2, name_1)\n"
   ]
  },
  {
   "cell_type": "code",
   "execution_count": 22,
   "metadata": {},
   "outputs": [
    {
     "name": "stdout",
     "output_type": "stream",
     "text": [
      "529\n",
      "625\n",
      "729\n",
      "841\n",
      "961\n",
      "1089\n",
      "1225\n",
      "1369\n",
      "1521\n",
      "1681\n",
      "225\n",
      "289\n",
      "361\n",
      "441\n",
      "529\n",
      "625\n",
      "729\n",
      "841\n",
      "961\n"
     ]
    }
   ],
   "source": [
    "# the function is fine, you do not need to change it\n",
    "def square_odds(a, b):\n",
    "    start = a\n",
    "    if a % 2 == 0:\n",
    "        start += 1\n",
    "    end = b + 1\n",
    "    for odd in range(start, end, 2):\n",
    "        print(odd ** 2)\n",
    "\n",
    "\n",
    "# from 22 to 42\n",
    "square_odds(22, 42)\n",
    "\n",
    "# from 15 to 31\n",
    "square_odds(15, 31)\n",
    "\n",
    "# from 42 to 49\n",
    "square_odds(49, 42)"
   ]
  },
  {
   "cell_type": "code",
   "execution_count": 25,
   "metadata": {},
   "outputs": [
    {
     "name": "stdout",
     "output_type": "stream",
     "text": [
      "3 x + 4 = 3\n"
     ]
    }
   ],
   "source": [
    "def equation_writing(a, b, c):\n",
    "    print(a, \"x +\", b, \"=\",  c)\n",
    "\n",
    "a = 3\n",
    "b = 4\n",
    "c = 3\n",
    "equation_writing(a, b, c)"
   ]
  },
  {
   "cell_type": "code",
   "execution_count": 1,
   "metadata": {},
   "outputs": [
    {
     "name": "stdout",
     "output_type": "stream",
     "text": [
      "asdfghjblvcnnxmkfgdgfmdmjigfdhgujdfgvbyhfbdibviu\n",
      "m\n"
     ]
    }
   ],
   "source": [
    "alphabet = input()\n",
    "print(alphabet[14])"
   ]
  },
  {
   "cell_type": "code",
   "execution_count": 3,
   "metadata": {},
   "outputs": [
    {
     "name": "stdout",
     "output_type": "stream",
     "text": [
      "Jura jon qanday\n",
      "joni\n",
      "False\n"
     ]
    }
   ],
   "source": [
    "a = input()\n",
    "b = input()\n",
    "if b in a:\n",
    "    print(True)\n",
    "else:\n",
    "    print(False)"
   ]
  },
  {
   "cell_type": "code",
   "execution_count": 5,
   "metadata": {},
   "outputs": [
    {
     "name": "stdout",
     "output_type": "stream",
     "text": [
      "LeviOsa\n",
      "-1\n"
     ]
    }
   ],
   "source": [
    "spell = \"Wingardium Leviosa\"\n",
    "print(spell.find(input()))"
   ]
  },
  {
   "cell_type": "code",
   "execution_count": 100,
   "metadata": {},
   "outputs": [
    {
     "name": "stdout",
     "output_type": "stream",
     "text": [
      "Simon says make a wish\n"
     ]
    },
    {
     "data": {
      "text/plain": [
       "'I make a wish'"
      ]
     },
     "execution_count": 100,
     "metadata": {},
     "output_type": "execute_result"
    }
   ],
   "source": [
    "def what_to_do(sentense):\n",
    "    if sentense.startswith(\"Simon says\"):\n",
    "        b = sentense.replace(\"Simon says \", \"\")\n",
    "        return(\"I \" +b)\n",
    "    elif sentense.endswith(\"Simon says\"):\n",
    "        b = sentense.replace(\" Simon says\", \"\")\n",
    "        return(\"I \" +b)\n",
    "    else: \n",
    "        return(\"I won't do it!\")\n",
    "sentense = input()\n",
    "what_to_do(sentense)\n",
    "\n",
    "\n",
    "    "
   ]
  },
  {
   "cell_type": "code",
   "execution_count": 101,
   "metadata": {},
   "outputs": [
    {
     "name": "stdout",
     "output_type": "stream",
     "text": [
      "nyhjrt \n"
     ]
    },
    {
     "data": {
      "text/plain": [
       "\"I won't do it!\""
      ]
     },
     "execution_count": 101,
     "metadata": {},
     "output_type": "execute_result"
    }
   ],
   "source": []
  },
  {
   "cell_type": "code",
   "execution_count": null,
   "metadata": {},
   "outputs": [],
   "source": []
  },
  {
   "cell_type": "code",
   "execution_count": 13,
   "metadata": {},
   "outputs": [
    {
     "name": "stdout",
     "output_type": "stream",
     "text": [
      "H A N G M A N\n",
      "The game will be available soon.\n",
      "Guess the word kot---: k\n",
      "You lost!\n"
     ]
    }
   ],
   "source": [
    "import random\n",
    "print(\"H A N G M A N\")\n",
    "print(\"The game will be available soon.\")\n",
    "sentence = ['python', 'java', 'kotlin', 'javascript']\n",
    "a = random.choice(sentence)\n",
    "if a == 'java':\n",
    "    s = input(\"Guess the word \" + \"jav-:\")\n",
    "else:\n",
    "    s = input(\"Guess the word \" + (a.replace(a[3:], \"-\" * (len(a) - 3) + \": \")))\n",
    "\n",
    "print(\"You survived!\" if a == s else \"You lost!\")"
   ]
  },
  {
   "cell_type": "code",
   "execution_count": 18,
   "metadata": {},
   "outputs": [
    {
     "name": "stdout",
     "output_type": "stream",
     "text": [
      "H A N G M A N\n",
      "The game will be available soon.\n",
      "Guess the word jav-------3\n",
      "You lost!\n"
     ]
    }
   ],
   "source": [
    "import random\n",
    "\n",
    "print('H A N G M A N')\n",
    "print('The game will be available soon.')\n",
    "languages = ['python', 'java', 'kotlin', 'javascript']\n",
    "word = random.choice(languages)\n",
    "hint = word[slice(3)] + ('-' * (len(word) - 3))\n",
    "guess = input('Guess the word ' + hint)\n",
    "\n",
    "if word == guess:\n",
    "    print('You survived!')\n",
    "else:\n",
    "    print('You lost!')"
   ]
  },
  {
   "cell_type": "code",
   "execution_count": 19,
   "metadata": {},
   "outputs": [
    {
     "name": "stdout",
     "output_type": "stream",
     "text": [
      "8\n",
      "11\n",
      "-3\n"
     ]
    }
   ],
   "source": [
    "a = int(input())\n",
    "b = int(input())\n",
    "print(a-b)"
   ]
  },
  {
   "cell_type": "code",
   "execution_count": 21,
   "metadata": {},
   "outputs": [
    {
     "name": "stdout",
     "output_type": "stream",
     "text": [
      "8\n",
      "True\n"
     ]
    }
   ],
   "source": [
    "a = int(input().strip())\n",
    "print(True if a > 0 else False)\n"
   ]
  },
  {
   "cell_type": "code",
   "execution_count": 24,
   "metadata": {},
   "outputs": [
    {
     "name": "stdout",
     "output_type": "stream",
     "text": [
      "5445\n",
      "5\n"
     ]
    }
   ],
   "source": [
    "a = int(input())\n",
    "a = str(a)\n",
    "print(a[-1])"
   ]
  },
  {
   "cell_type": "code",
   "execution_count": 29,
   "metadata": {},
   "outputs": [
    {
     "name": "stdout",
     "output_type": "stream",
     "text": [
      "6\n",
      "3\n"
     ]
    },
    {
     "data": {
      "text/plain": [
       "9"
      ]
     },
     "execution_count": 29,
     "metadata": {},
     "output_type": "execute_result"
    }
   ],
   "source": [
    "def get_sum(a, b):\n",
    "    return(a + b)\n",
    "a = int(input())\n",
    "b = int(input())\n",
    "get_sum(a, b)"
   ]
  },
  {
   "cell_type": "code",
   "execution_count": 35,
   "metadata": {},
   "outputs": [
    {
     "name": "stdout",
     "output_type": "stream",
     "text": [
      "60\n",
      "60\n",
      "60\n",
      "The triangle is valid!\n"
     ]
    }
   ],
   "source": [
    "a = int(input())\n",
    "b = int(input())\n",
    "c = int(input())\n",
    "print(\"The triangle is valid!\" if (a + b + c) == 180 else \"The triangle is not valid!\")"
   ]
  },
  {
   "cell_type": "code",
   "execution_count": 4,
   "metadata": {},
   "outputs": [
    {
     "name": "stdout",
     "output_type": "stream",
     "text": [
      "fgdsgfdsgfsdg\n",
      "('f', 'g', 'd', 's', 'g', 'f', 'd', 's', 'g', 'f', 's', 'd', 'g')\n"
     ]
    }
   ],
   "source": [
    "alphabet = list(map(str, input()))\n",
    "print(tuple(alphabet))"
   ]
  },
  {
   "cell_type": "code",
   "execution_count": 1,
   "metadata": {},
   "outputs": [
    {
     "ename": "NameError",
     "evalue": "name 'json' is not defined",
     "output_type": "error",
     "traceback": [
      "\u001b[1;31m---------------------------------------------------------------------------\u001b[0m",
      "\u001b[1;31mNameError\u001b[0m                                 Traceback (most recent call last)",
      "\u001b[1;32m<ipython-input-1-6252366d9fa1>\u001b[0m in \u001b[0;36m<module>\u001b[1;34m\u001b[0m\n\u001b[1;32m----> 1\u001b[1;33m \u001b[0mstudents\u001b[0m \u001b[1;33m=\u001b[0m \u001b[0mjson\u001b[0m\u001b[1;33m.\u001b[0m\u001b[0mloads\u001b[0m\u001b[1;33m(\u001b[0m\u001b[0minput\u001b[0m\u001b[1;33m(\u001b[0m\u001b[1;33m)\u001b[0m\u001b[1;33m)\u001b[0m\u001b[1;33m\u001b[0m\u001b[1;33m\u001b[0m\u001b[0m\n\u001b[0m\u001b[0;32m      2\u001b[0m \u001b[0mBelov\u001b[0m \u001b[1;33m=\u001b[0m \u001b[0mstudents\u001b[0m\u001b[1;33m[\u001b[0m\u001b[1;34m'Belov'\u001b[0m\u001b[1;33m]\u001b[0m\u001b[1;33m\u001b[0m\u001b[1;33m\u001b[0m\u001b[0m\n\u001b[0;32m      3\u001b[0m \u001b[0mSmith\u001b[0m \u001b[1;33m=\u001b[0m \u001b[0mstudents\u001b[0m\u001b[1;33m[\u001b[0m\u001b[1;34m'Smith'\u001b[0m\u001b[1;33m]\u001b[0m\u001b[1;33m\u001b[0m\u001b[1;33m\u001b[0m\u001b[0m\n\u001b[0;32m      4\u001b[0m \u001b[0mSarada\u001b[0m \u001b[1;33m=\u001b[0m \u001b[0mstudents\u001b[0m\u001b[1;33m[\u001b[0m\u001b[1;34m'Sarada'\u001b[0m\u001b[1;33m]\u001b[0m\u001b[1;33m\u001b[0m\u001b[1;33m\u001b[0m\u001b[0m\n",
      "\u001b[1;31mNameError\u001b[0m: name 'json' is not defined"
     ]
    }
   ],
   "source": [
    "students = json.loads(input())\n",
    "Belov = students['Belov']\n",
    "Smith = students['Smith']\n",
    "Sarada = students['Sarada']\n"
   ]
  },
  {
   "cell_type": "code",
   "execution_count": 4,
   "metadata": {},
   "outputs": [
    {
     "name": "stdout",
     "output_type": "stream",
     "text": [
      "vdfgfdghf\n"
     ]
    },
    {
     "ename": "NameError",
     "evalue": "name 'mystery_set' is not defined",
     "output_type": "error",
     "traceback": [
      "\u001b[1;31m---------------------------------------------------------------------------\u001b[0m",
      "\u001b[1;31mNameError\u001b[0m                                 Traceback (most recent call last)",
      "\u001b[1;32m<ipython-input-4-9964cf45e96e>\u001b[0m in \u001b[0;36m<module>\u001b[1;34m\u001b[0m\n\u001b[0;32m      1\u001b[0m \u001b[0mstring\u001b[0m \u001b[1;33m=\u001b[0m \u001b[0minput\u001b[0m\u001b[1;33m(\u001b[0m\u001b[1;33m)\u001b[0m\u001b[1;33m\u001b[0m\u001b[1;33m\u001b[0m\u001b[0m\n\u001b[1;32m----> 2\u001b[1;33m \u001b[0mmystery_set\u001b[0m\u001b[1;33m.\u001b[0m\u001b[0mdiscard\u001b[0m\u001b[1;33m(\u001b[0m\u001b[0mstring\u001b[0m\u001b[1;33m)\u001b[0m\u001b[1;33m\u001b[0m\u001b[1;33m\u001b[0m\u001b[0m\n\u001b[0m",
      "\u001b[1;31mNameError\u001b[0m: name 'mystery_set' is not defined"
     ]
    }
   ],
   "source": [
    "string = input()\n",
    "mystery_set.discard(string)"
   ]
  },
  {
   "cell_type": "code",
   "execution_count": 9,
   "metadata": {},
   "outputs": [
    {
     "name": "stdout",
     "output_type": "stream",
     "text": [
      "9\n",
      "few\n"
     ]
    }
   ],
   "source": [
    "army = int(input())\n",
    "if army < 1:\n",
    "    print('no army')\n",
    "elif army <= 9:\n",
    "    print('few')\n",
    "elif army <= 49:\n",
    "    print('pack')\n",
    "elif army <= 499:\n",
    "    print('horde')\n",
    "elif army <= 999:\n",
    "    print('swarm')\n",
    "else:\n",
    "    print('legion')"
   ]
  },
  {
   "cell_type": "code",
   "execution_count": 10,
   "metadata": {},
   "outputs": [
    {
     "name": "stdout",
     "output_type": "stream",
     "text": [
      "Atlantic\n",
      "Pacific\n",
      "Indian\n",
      "Southern\n",
      "Arctic\n"
     ]
    }
   ],
   "source": [
    "oceans = ['Atlantic', 'Pacific', 'Indian', 'Southern', 'Arctic']\n",
    "for ocean in oceans:\n",
    "    print(ocean)"
   ]
  },
  {
   "cell_type": "code",
   "execution_count": 11,
   "metadata": {},
   "outputs": [
    {
     "name": "stdout",
     "output_type": "stream",
     "text": [
      "1\n",
      "4\n",
      "9\n",
      "16\n"
     ]
    }
   ],
   "source": [
    "for x in range(1, 5):\n",
    "    print(x * x)"
   ]
  },
  {
   "cell_type": "code",
   "execution_count": 12,
   "metadata": {},
   "outputs": [
    {
     "name": "stdout",
     "output_type": "stream",
     "text": [
      "-3\n",
      "-2\n",
      "-1\n",
      "-6\n",
      "-4\n",
      "-2\n",
      "-9\n",
      "-6\n",
      "-3\n"
     ]
    }
   ],
   "source": [
    "for x in range(1, 4):\n",
    "    for y in range(-3, 0):\n",
    "        print(x * y)"
   ]
  },
  {
   "cell_type": "code",
   "execution_count": 14,
   "metadata": {},
   "outputs": [
    {
     "name": "stdout",
     "output_type": "stream",
     "text": [
      "&&&&&&&&&&&&&&&&&&&&&&&&&&&&&&&&&&&&&&&&&&&&&&&&&&&&&&&&&&&&&&&&&&&&&&&&&&&&&&&&&&&&&&&&&&&&&&&&&&&&&&&&&&&&&&&&&&&&&&&&&&&&&&&&&&&&&&&&&&&&&&&&&&&&&&&&&&&&&&&&&&&&&&&&&&&&&&&&&&&&&&&&&&&&&&&&&&&&&&&&&&&&&&&&&&&&&&&&&&&&&&&&&&&&&&&&&&&&&&&&&&&&&&&&&&&&&&&&&&&&&&&&&&&&&&&&&&&&&&&&&&&&&&&&&&&&&&&&&&&&&&&&&&&&&&&&&&&&&&&&&&&&&&&&&&&&&&&&&&&&&&&&&&&&&&&&&&&&&&&&&&&&&&&&&&&&&&&&&&&&&&&&&&&&&&&&&&&&&&&&&&&&&&&&&&&&&&&&&&&&&&&&&&&&&&&&&&&\n",
      "435\n"
     ]
    }
   ],
   "source": [
    "string = \"\"\n",
    "for i in range(1, 58, 4):\n",
    "    string += \"&\" * i\n",
    "\n",
    "print(string)\n",
    "print(len(string))\n"
   ]
  },
  {
   "cell_type": "code",
   "execution_count": 15,
   "metadata": {},
   "outputs": [
    {
     "name": "stdout",
     "output_type": "stream",
     "text": [
      "True\n"
     ]
    }
   ],
   "source": [
    "print(\"a\".islower())"
   ]
  },
  {
   "cell_type": "code",
   "execution_count": 16,
   "metadata": {},
   "outputs": [
    {
     "name": "stdout",
     "output_type": "stream",
     "text": [
      "Fghj\n",
      "F\n",
      "g\n",
      "h\n",
      "j\n"
     ]
    }
   ],
   "source": [
    "word = input()\n",
    "for char in word:\n",
    "    print(char)"
   ]
  },
  {
   "cell_type": "code",
   "execution_count": 19,
   "metadata": {},
   "outputs": [
    {
     "name": "stdout",
     "output_type": "stream",
     "text": [
      "GhhfdsvjHfdcd\n",
      "ghhfdsvj_hfdcd\n"
     ]
    }
   ],
   "source": [
    "word = input()\n",
    "counter = 0\n",
    "new_word = \"\"\n",
    "\n",
    "for char in word:\n",
    "    if not(char.islower()) and counter > 0:\n",
    "        new_word = new_word + '_' + char.lower()\n",
    "    else:\n",
    "        new_word = new_word + char\n",
    "    counter += 1\n",
    "    \n",
    "print(new_word.lower())"
   ]
  },
  {
   "cell_type": "code",
   "execution_count": 44,
   "metadata": {},
   "outputs": [
    {
     "name": "stdout",
     "output_type": "stream",
     "text": [
      "53\n",
      "FizzBuzz\n"
     ]
    }
   ],
   "source": [
    "word = input()\n",
    "if '3' in word and '5' in word:\n",
    "    print(\"FizzBuzz\")\n",
    "elif '5' in word:\n",
    "    print(word.replace('5', 'Buzz'))\n",
    "elif '3' in word:\n",
    "    print(word.replace('3', 'Fizz'))\n",
    "else:\n",
    "    print(word)\n",
    "  "
   ]
  },
  {
   "cell_type": "code",
   "execution_count": 47,
   "metadata": {},
   "outputs": [
    {
     "name": "stdout",
     "output_type": "stream",
     "text": [
      "1\n",
      "2\n",
      "Fizz\n",
      "4\n",
      "Buzz\n",
      "Fizz\n",
      "7\n",
      "8\n",
      "Fizz\n",
      "Buzz\n",
      "11\n",
      "Fizz\n",
      "13\n",
      "14\n",
      "Fizz Buzz\n",
      "16\n",
      "17\n",
      "Fizz\n",
      "19\n",
      "Buzz\n",
      "Fizz\n",
      "22\n",
      "23\n",
      "Fizz\n",
      "Buzz\n",
      "26\n",
      "Fizz\n",
      "28\n",
      "29\n",
      "Fizz Buzz\n",
      "31\n",
      "32\n",
      "Fizz\n",
      "34\n",
      "Buzz\n",
      "Fizz\n",
      "37\n",
      "38\n",
      "Fizz\n",
      "Buzz\n",
      "41\n",
      "Fizz\n",
      "43\n",
      "44\n",
      "Fizz Buzz\n",
      "46\n",
      "47\n",
      "Fizz\n",
      "49\n",
      "Buzz\n",
      "Fizz\n",
      "52\n",
      "53\n",
      "Fizz\n",
      "Buzz\n",
      "56\n",
      "Fizz\n",
      "58\n",
      "59\n",
      "Fizz Buzz\n",
      "61\n",
      "62\n",
      "Fizz\n",
      "64\n",
      "Buzz\n",
      "Fizz\n",
      "67\n",
      "68\n",
      "Fizz\n",
      "Buzz\n",
      "71\n",
      "Fizz\n",
      "73\n",
      "74\n",
      "Fizz Buzz\n",
      "76\n",
      "77\n",
      "Fizz\n",
      "79\n",
      "Buzz\n",
      "Fizz\n",
      "82\n",
      "83\n",
      "Fizz\n",
      "Buzz\n",
      "86\n",
      "Fizz\n",
      "88\n",
      "89\n",
      "Fizz Buzz\n",
      "91\n",
      "92\n",
      "Fizz\n",
      "94\n",
      "Buzz\n",
      "Fizz\n",
      "97\n",
      "98\n",
      "Fizz\n",
      "Buzz\n"
     ]
    }
   ],
   "source": [
    "for i in range (1,101,1):\n",
    "    if i % 3 == 0 and i % 5 == 0:\n",
    "        print(\"Fizz Buzz\") \n",
    "    elif i % 3 == 0:\n",
    "        print(\"Fizz\")\n",
    "    elif i % 5 == 0:\n",
    "        print(\"Buzz\")\n",
    "    else:\n",
    "        print(i)"
   ]
  },
  {
   "cell_type": "code",
   "execution_count": 54,
   "metadata": {},
   "outputs": [
    {
     "name": "stdout",
     "output_type": "stream",
     "text": [
      "1 little bear\n",
      "Wondering what to do\n",
      "Along came another\n",
      "Then there were 2 !\n",
      "2 little bears\n",
      "Wondering what to do\n",
      "Along came another\n",
      "Then there were 3 !\n",
      "3 little bears\n",
      "Wondering what to do\n",
      "Along came another\n",
      "Then there were 4 !\n",
      "4 little bears\n",
      "Wondering what to do\n",
      "Along came another\n",
      "Then there were 5 !\n",
      "5 little bears\n",
      "Wondering what to do\n",
      "Along came another\n",
      "Then there were 6 !\n"
     ]
    }
   ],
   "source": [
    "for i in range(1,6):\n",
    "    if i == 1:\n",
    "        print(i, 'little bear')\n",
    "    else:\n",
    "        print(i, 'little bears')\n",
    "    print('Wondering what to do')\n",
    "    print('Along came another')\n",
    "    print('Then there were', i+1, '!')"
   ]
  },
  {
   "cell_type": "code",
   "execution_count": 4,
   "metadata": {},
   "outputs": [
    {
     "name": "stdout",
     "output_type": "stream",
     "text": [
      "H A N G M A N\n",
      "\n",
      "----\n",
      "Input a letter: j\n",
      "\n",
      "j---\n",
      "Input a letter: a\n",
      "\n",
      "ja-a\n",
      "Input a letter: a\n",
      "No improvements\n",
      "\n",
      "ja-a\n",
      "Input a letter: a\n",
      "No improvements\n",
      "\n",
      "ja-a\n",
      "Input a letter: a\n",
      "No improvements\n",
      "\n",
      "ja-a\n",
      "Input a letter: a\n",
      "No improvements\n",
      "\n",
      "ja-a\n",
      "Input a letter: a\n",
      "No improvements\n",
      "\n",
      "ja-a\n",
      "Input a letter: a\n",
      "No improvements\n",
      "\n",
      "ja-a\n",
      "Input a letter: a\n",
      "No improvements\n",
      "\n",
      "ja-a\n",
      "Input a letter: a\n",
      "No improvements\n",
      "You lost!\n"
     ]
    }
   ],
   "source": [
    "import random\n",
    "print(\"H A N G M A N\")\n",
    "sentence = ['python', 'java', 'kotlin', 'javascript']\n",
    "a = random.choice(sentence)\n",
    "exit = 0\n",
    "s = ((a.replace(a, \"-\" * (len(a)))))\n",
    "while exit < 8:\n",
    "    print()\n",
    "    print(s)\n",
    "    view_word = input('Input a letter: ')\n",
    "    s_lst = list(s)\n",
    "    a_lst = list(a)\n",
    "    if view_word in a:\n",
    "        for i in range(len(a)):\n",
    "            if a_lst[i] == view_word:\n",
    "                s_lst[i] = view_word\n",
    "                n = s.find(view_word)\n",
    "                if view_word in s and view_word == s[i: n+1]:\n",
    "                    print(\"No improvements\")\n",
    "                    exit += 1\n",
    "                    if exit == 8:\n",
    "                        print(\"You lost!\")\n",
    "                s = ''.join(s_lst)\n",
    "        if s == a:\n",
    "            print()\n",
    "            print(a)\n",
    "            print('You guessed the word!')\n",
    "            print('You survived!')\n",
    "            break\n",
    "    else:\n",
    "        print(\"That letter doesn't appear in the word\")\n",
    "        exit += 1\n",
    "        if exit == 8:\n",
    "            print(\"You lost!\")\n"
   ]
  },
  {
   "cell_type": "code",
   "execution_count": null,
   "metadata": {},
   "outputs": [],
   "source": []
  },
  {
   "cell_type": "code",
   "execution_count": null,
   "metadata": {},
   "outputs": [],
   "source": []
  },
  {
   "cell_type": "code",
   "execution_count": 43,
   "metadata": {},
   "outputs": [
    {
     "ename": "IndentationError",
     "evalue": "expected an indented block (<ipython-input-43-dc4417f8719f>, line 12)",
     "output_type": "error",
     "traceback": [
      "\u001b[1;36m  File \u001b[1;32m\"<ipython-input-43-dc4417f8719f>\"\u001b[1;36m, line \u001b[1;32m12\u001b[0m\n\u001b[1;33m    print(\"You survived!\" if a == s else \"You lost!\")\u001b[0m\n\u001b[1;37m    ^\u001b[0m\n\u001b[1;31mIndentationError\u001b[0m\u001b[1;31m:\u001b[0m expected an indented block\n"
     ]
    }
   ],
   "source": []
  },
  {
   "cell_type": "code",
   "execution_count": 93,
   "metadata": {},
   "outputs": [
    {
     "name": "stdout",
     "output_type": "stream",
     "text": [
      "3\n",
      "3\n",
      "3\n",
      "3\n",
      "3\n",
      "3\n",
      "3\n"
     ]
    }
   ],
   "source": [
    "a = 6\n",
    "\n",
    "exit = 0 \n",
    "while exit <= a:\n",
    "    b = int(input())\n",
    "    exit += 1\n",
    "    "
   ]
  },
  {
   "cell_type": "code",
   "execution_count": 21,
   "metadata": {},
   "outputs": [
    {
     "name": "stdout",
     "output_type": "stream",
     "text": [
      "1\n",
      "4\n",
      "9\n",
      "16\n",
      "25\n",
      "36\n",
      "49\n",
      "64\n",
      "81\n",
      "100\n",
      "121\n",
      "144\n",
      "169\n",
      "196\n",
      "225\n",
      "256\n",
      "289\n",
      "324\n",
      "361\n",
      "400\n"
     ]
    }
   ],
   "source": [
    "i = 1\n",
    "while i <= 20:\n",
    "    print(i ** 2)\n",
    "    i += 1\n",
    "    "
   ]
  },
  {
   "cell_type": "code",
   "execution_count": 22,
   "metadata": {},
   "outputs": [
    {
     "name": "stdout",
     "output_type": "stream",
     "text": [
      "\n",
      "0 \n",
      "0 1 \n",
      "0 1 2 \n",
      "0 1 2 3 \n",
      "0 1 2 3 4 \n",
      "0 1 2 3 4 5 \n",
      "0 1 2 3 4 5 6 \n",
      "0 1 2 3 4 5 6 7 \n",
      "0 1 2 3 4 5 6 7 8 \n"
     ]
    }
   ],
   "source": [
    "for i in range(10):\n",
    "    line = \"\"\n",
    "    for j in range(10):\n",
    "        if i == j:\n",
    "            break\n",
    "        line += \"{} \".format(j)\n",
    "    print(line)"
   ]
  },
  {
   "cell_type": "code",
   "execution_count": 27,
   "metadata": {},
   "outputs": [
    {
     "name": "stdout",
     "output_type": "stream",
     "text": [
      "546\n",
      "5\n",
      "4\n",
      "6\n"
     ]
    }
   ],
   "source": [
    "s = list(map(int, input()))\n",
    "s = tuple(s)\n",
    "for i in s:\n",
    "    print(i)"
   ]
  },
  {
   "cell_type": "code",
   "execution_count": 1,
   "metadata": {},
   "outputs": [
    {
     "name": "stdout",
     "output_type": "stream",
     "text": [
      "gdfg dfsgfdgdf gtregfd\n",
      "Gdfg Dfsgfdgdf Gtregfd\n"
     ]
    }
   ],
   "source": [
    "# don't modify this code or the variable may not be available\n",
    "input_string = input()\n",
    "print(input_string.title())"
   ]
  },
  {
   "cell_type": "code",
   "execution_count": 10,
   "metadata": {},
   "outputs": [
    {
     "name": "stdout",
     "output_type": "stream",
     "text": [
      "1.0\n"
     ]
    }
   ],
   "source": [
    "print(float(1.0000000000000001))\n"
   ]
  },
  {
   "cell_type": "code",
   "execution_count": 38,
   "metadata": {},
   "outputs": [
    {
     "name": "stdout",
     "output_type": "stream",
     "text": [
      "6\n",
      "5\n",
      "9\n",
      "8\n",
      "4\n",
      "7\n",
      ".\n",
      "39\n",
      "6.5\n"
     ]
    }
   ],
   "source": [
    "exit = 0\n",
    "b = 0\n",
    "while True:\n",
    "    a = (input())\n",
    "    if a == \".\":\n",
    "        break\n",
    "    else:\n",
    "        b += int(a)\n",
    "        exit += 1\n",
    "print(b)\n",
    "print(b / exit)\n",
    "    "
   ]
  },
  {
   "cell_type": "code",
   "execution_count": 80,
   "metadata": {},
   "outputs": [
    {
     "name": "stdout",
     "output_type": "stream",
     "text": [
      "wqerty 100\n",
      "asdsfghj 1000\n",
      "zxcv 10\n",
      "MEOW\n",
      "maxx = asdsfghj\n"
     ]
    }
   ],
   "source": [
    "names = []\n",
    "while True:\n",
    "    cafe = input()\n",
    "    if cafe == \"MEOW\":\n",
    "        break\n",
    "    else:\n",
    "        names.append(cafe)\n",
    "maximum = 0\n",
    "for i in names:    \n",
    "        j = i.find(\" \") \n",
    "        if int(i[j:]) > maximum:\n",
    "            maximum = int(i[j:])\n",
    "            b = i[:j]\n",
    "print(\"maxx =\", b)"
   ]
  },
  {
   "cell_type": "code",
   "execution_count": 81,
   "metadata": {},
   "outputs": [
    {
     "name": "stdout",
     "output_type": "stream",
     "text": [
      "9\n"
     ]
    }
   ],
   "source": [
    "limit = 25\n",
    "numbers = []\n",
    "while len(numbers) < 5:\n",
    "    for i in range(limit):\n",
    "        if i % 3 != 0:\n",
    "            continue\n",
    "        else:\n",
    "            numbers.append(i)\n",
    "\n",
    "print(len(numbers))"
   ]
  },
  {
   "cell_type": "code",
   "execution_count": 22,
   "metadata": {},
   "outputs": [
    {
     "name": "stdout",
     "output_type": "stream",
     "text": [
      "CCICCCICCCCICCCCCCICCCCCICCI\n",
      "Game over\n",
      "2\n",
      "6\n",
      "11\n",
      "9\n"
     ]
    }
   ],
   "source": [
    "scores = input()\n",
    "a = scores.count('I')\n",
    "if a >= 3:\n",
    "    print(\"Game over\")\n",
    "    s = scores.find(\"I\")\n",
    "    d = scores.find(\"I\", s+1)\n",
    "    f = scores.find(\"I\", d+1)\n",
    "    print(scores.count('C', 0,f))\n",
    "else:\n",
    "    print(\"You won\")\n",
    "    print(scores.count('C'))"
   ]
  },
  {
   "cell_type": "code",
   "execution_count": 28,
   "metadata": {},
   "outputs": [
    {
     "name": "stdout",
     "output_type": "stream",
     "text": [
      "karol\n",
      "Not palindrome\n"
     ]
    }
   ],
   "source": [
    "a = input()\n",
    "print(\"Palindrome\" if a == a[::-1] else \"Not palindrome\")\n",
    "    "
   ]
  },
  {
   "cell_type": "code",
   "execution_count": 4,
   "metadata": {},
   "outputs": [
    {
     "name": "stdout",
     "output_type": "stream",
     "text": [
      "22\n"
     ]
    },
    {
     "data": {
      "text/plain": [
       "35.397999999999996"
      ]
     },
     "execution_count": 4,
     "metadata": {},
     "output_type": "execute_result"
    }
   ],
   "source": [
    "def mi_to_km(mill):\n",
    "    return(mill * 1.609)\n",
    "mill = int(input())\n",
    "mi_to_km(mill)\n"
   ]
  },
  {
   "cell_type": "code",
   "execution_count": 11,
   "metadata": {},
   "outputs": [
    {
     "name": "stdout",
     "output_type": "stream",
     "text": [
      "7\n",
      "100\n",
      "2\n",
      "3\n",
      "4\n",
      "5\n",
      "6\n",
      "7\n",
      "[100, 2, 3, 4, 5, 6, 7]\n"
     ]
    }
   ],
   "source": [
    "n = int(input())\n",
    "exit = 0\n",
    "list_ = []\n",
    "while exit < n:\n",
    "    a = int(input())\n",
    "    list_.append(a)\n",
    "    exit += 1\n",
    "print(list_)"
   ]
  },
  {
   "cell_type": "code",
   "execution_count": 12,
   "metadata": {},
   "outputs": [
    {
     "name": "stdout",
     "output_type": "stream",
     "text": [
      "I am = I'm\n",
      "I have = I've\n",
      "I will = I'll\n",
      "I had / would = I'd\n"
     ]
    }
   ],
   "source": [
    "print(\"I am = I'm\")\n",
    "print(\"I have = I've\")\n",
    "print(\"I will = I'll\")\n",
    "print(\"I had / would = I'd\")"
   ]
  },
  {
   "cell_type": "code",
   "execution_count": 13,
   "metadata": {},
   "outputs": [
    {
     "name": "stdout",
     "output_type": "stream",
     "text": [
      "I am = I'm\n",
      "I have = I've\n",
      "I will = I'll\n",
      "I had / would = I'd\n"
     ]
    }
   ],
   "source": [
    "print(\"I am = I'm\\nI have = I've\\nI will = I'll\\nI had / would = I'd\")"
   ]
  },
  {
   "cell_type": "code",
   "execution_count": 14,
   "metadata": {},
   "outputs": [
    {
     "name": "stdout",
     "output_type": "stream",
     "text": [
      "The quick brown fox\n"
     ]
    }
   ],
   "source": [
    "print( \"The quick brown fox\" )"
   ]
  },
  {
   "cell_type": "code",
   "execution_count": 22,
   "metadata": {},
   "outputs": [
    {
     "name": "stdout",
     "output_type": "stream",
     "text": [
      "ASADBEK\n"
     ]
    }
   ],
   "source": [
    "a = \"Asadbek\"\n",
    "print(a.upper())"
   ]
  },
  {
   "cell_type": "code",
   "execution_count": 17,
   "metadata": {},
   "outputs": [
    {
     "name": "stdout",
     "output_type": "stream",
     "text": [
      "Ismingizni kiriting: Asadbek\n",
      "Salom Asadbek\n"
     ]
    }
   ],
   "source": [
    "a = input(\"Ismingizni kiriting: \")\n",
    "print(\"Salom\", a)"
   ]
  },
  {
   "cell_type": "code",
   "execution_count": 23,
   "metadata": {},
   "outputs": [
    {
     "name": "stdout",
     "output_type": "stream",
     "text": [
      "a ni kiriting6\n",
      "b ni kiriting7\n",
      "6 ni 7 ga qo`shsa javob 13 bo`ladi\n"
     ]
    }
   ],
   "source": [
    "a = int(input(\"a ni kiriting\"))\n",
    "b = int(input(\"b ni kiriting\"))\n",
    "print(a, \"ni\", b, \"ga qo`shsa javob\", a+b, \"bo`ladi\")"
   ]
  },
  {
   "cell_type": "code",
   "execution_count": 2,
   "metadata": {},
   "outputs": [
    {
     "name": "stdout",
     "output_type": "stream",
     "text": [
      "50\n"
     ]
    }
   ],
   "source": [
    "amount = 1000\n",
    "interest_rate = 5\n",
    "years = 1\n",
    "# change the next line\n",
    "income = int((amount / 100) * 5)\n",
    "print(income)"
   ]
  },
  {
   "cell_type": "code",
   "execution_count": 17,
   "metadata": {},
   "outputs": [
    {
     "name": "stdout",
     "output_type": "stream",
     "text": [
      "H A N G M A N\n",
      "Type \"play\" to play the game, \"exit\" to quit: play\n",
      "\n",
      "----\n",
      "Input a letter: j\n",
      "\n",
      "j---\n",
      "Input a letter: a\n",
      "\n",
      "ja-a\n",
      "Input a letter: v\n",
      "\n",
      "java\n",
      "You guessed the word!\n",
      "You survived!\n",
      "Type \"play\" to play the game, \"exit\" to quit: exit\n"
     ]
    }
   ],
   "source": [
    "import random\n",
    "print(\"H A N G M A N\")\n",
    "exit1 = 1\n",
    "while exit1 == 1:\n",
    "    wish = input('Type \"play\" to play the game, \"exit\" to quit: ')\n",
    "    if wish == \"play\":\n",
    "        sentence = ['python', 'java', 'kotlin', 'javascript']\n",
    "        a = random.choice(sentence)\n",
    "        exit = 0\n",
    "        list_ = []\n",
    "        alphabet = ['a', 'b', 'c', 'd', 'e', 'f', 'g', 'h', 'i', 'j', 'k', 'l', 'm', 'n', 'o', 'p', 'q', 'r', 's', 't', 'u', 'v', 'x', 'y', 'z', 'w']\n",
    "        s = ((a.replace(a, \"-\" * (len(a)))))\n",
    "        while exit < 8:\n",
    "            print()\n",
    "            print(s)\n",
    "            view_word = input('Input a letter: ')\n",
    "            s_lst = list(s)\n",
    "            a_lst = list(a)\n",
    "            if view_word in a:\n",
    "                for i in range(len(a)):\n",
    "                    if a_lst[i] == view_word:\n",
    "                        s_lst[i] = view_word\n",
    "                        n = s.find(view_word)\n",
    "                        if view_word == s[i: n+1]:\n",
    "                            print(\"You've already guessed this letter\")\n",
    "                        s = ''.join(s_lst)\n",
    "                if s == a:\n",
    "                    print()\n",
    "                    print(a)\n",
    "                    print('You guessed the word!')\n",
    "                    print('You survived!')\n",
    "                    break\n",
    "            elif len(view_word) > 1 or len(view_word) < 1:\n",
    "                print(\"You should input a single letter\")\n",
    "            elif view_word not in alphabet:\n",
    "                print(\"Please enter a lowercase English letter\")\n",
    "            elif view_word in list_:\n",
    "                print(\"You've already guessed this letter\")\n",
    "            elif view_word not in a: \n",
    "                print(\"That letter doesn't appear in the word\")\n",
    "                list_.append(view_word)\n",
    "                exit += 1\n",
    "                if exit == 8:\n",
    "                    print(\"You lost!\")\n",
    "    else:\n",
    "        exit1 == 0\n",
    "        break\n",
    "    "
   ]
  },
  {
   "cell_type": "code",
   "execution_count": null,
   "metadata": {},
   "outputs": [],
   "source": [
    "\n"
   ]
  },
  {
   "cell_type": "code",
   "execution_count": null,
   "metadata": {},
   "outputs": [],
   "source": []
  }
 ],
 "metadata": {
  "kernelspec": {
   "display_name": "Python 3",
   "language": "python",
   "name": "python3"
  },
  "language_info": {
   "codemirror_mode": {
    "name": "ipython",
    "version": 3
   },
   "file_extension": ".py",
   "mimetype": "text/x-python",
   "name": "python",
   "nbconvert_exporter": "python",
   "pygments_lexer": "ipython3",
   "version": "3.8.5"
  }
 },
 "nbformat": 4,
 "nbformat_minor": 4
}
