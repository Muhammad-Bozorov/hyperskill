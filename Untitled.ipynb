{
 "cells": [
  {
   "cell_type": "code",
   "execution_count": 1,
   "metadata": {},
   "outputs": [
    {
     "name": "stdout",
     "output_type": "stream",
     "text": [
      "Салом\n"
     ]
    }
   ],
   "source": [
    "print(\"Салом\")"
   ]
  },
  {
   "cell_type": "code",
   "execution_count": 11,
   "metadata": {},
   "outputs": [
    {
     "name": "stdout",
     "output_type": "stream",
     "text": [
      "Ismingizni kiriting! 55\n",
      "Салом 55 5555555555\n"
     ]
    }
   ],
   "source": [
    "a = input(\"Ismingizni kiriting! \")\n",
    "print(\"Салом \" + a, a*5)\n"
   ]
  },
  {
   "cell_type": "code",
   "execution_count": 15,
   "metadata": {},
   "outputs": [
    {
     "name": "stdout",
     "output_type": "stream",
     "text": [
      "maxsus raqam kiriting44545456\n",
      "Siz kiritgan raqamning 3-si = 5\n"
     ]
    }
   ],
   "source": [
    "\n",
    "prices = input(\"maxsus raqam kiriting\")\n",
    "print(\"Siz kiritgan raqamning 3-si = \" + prices[2])\n"
   ]
  },
  {
   "cell_type": "code",
   "execution_count": 25,
   "metadata": {},
   "outputs": [
    {
     "name": "stdout",
     "output_type": "stream",
     "text": [
      "Ismingizni kiriting! Kamola\n",
      "Салом Kamola\n",
      "Tug`ilgan yilingizni kiriting. 1997\n",
      "Tug`ilgan oygizni kiriting. 9\n",
      "Tug`ilgan kuningizni kiriting. 21\n",
      "Sizning yoshingiz 24 -5 26\n"
     ]
    }
   ],
   "source": [
    "a = input(\"Ismingizni kiriting! \")\n",
    "print(\"Салом \" + a,)\n",
    "b = int(input(\"Tug`ilgan yilingizni kiriting. \"))\n",
    "s = int(input(\"Tug`ilgan oygizni kiriting. \"))\n",
    "r = int(input(\"Tug`ilgan kuningizni kiriting. \"))\n",
    "c = 2021\n",
    "t = 4\n",
    "y = 6\n",
    "d=c-b\n",
    "y=t-s\n",
    "u=r-y\n",
    "print(\"Sizning yoshingiz\", d, y, u)"
   ]
  },
  {
   "cell_type": "code",
   "execution_count": 37,
   "metadata": {},
   "outputs": [
    {
     "name": "stdout",
     "output_type": "stream",
     "text": [
      "['M', 'a', 'r', 's']\n"
     ]
    }
   ],
   "source": [
    "planets = list('Mars')\n",
    "\n",
    "print(planets)"
   ]
  },
  {
   "cell_type": "code",
   "execution_count": 30,
   "metadata": {},
   "outputs": [
    {
     "name": "stdout",
     "output_type": "stream",
     "text": [
      "['Mars', 'Saturn', 'Neptun', 'Earth', 'Jupiter']\n"
     ]
    }
   ],
   "source": [
    "planets = ['Mars', 'Saturn', 'Neptun', 'Earth', 'Moon']\n",
    "planets[4] = 'Jupiter'\n",
    "print(planets)"
   ]
  },
  {
   "cell_type": "code",
   "execution_count": 19,
   "metadata": {},
   "outputs": [
    {
     "name": "stdout",
     "output_type": "stream",
     "text": [
      "<class 'int'>\n"
     ]
    }
   ],
   "source": [
    "ticket = 711117\n",
    "print(type(ticket))"
   ]
  },
  {
   "cell_type": "code",
   "execution_count": null,
   "metadata": {},
   "outputs": [],
   "source": []
  },
  {
   "cell_type": "code",
   "execution_count": null,
   "metadata": {},
   "outputs": [],
   "source": []
  },
  {
   "cell_type": "code",
   "execution_count": null,
   "metadata": {},
   "outputs": [],
   "source": []
  },
  {
   "cell_type": "code",
   "execution_count": 53,
   "metadata": {},
   "outputs": [
    {
     "name": "stdout",
     "output_type": "stream",
     "text": [
      "12, 14, 15, 16\n",
      "4\n",
      "16\n"
     ]
    }
   ],
   "source": [
    "# please, don't modify this variable\n",
    "calculations = input().split()\n",
    "#Bu yerda .split() dan foydalanib, bitta qatorga bir nechta raqamlarni kiritish mumkin\n",
    "print(calculations[-1])\n",
    "# complete the code"
   ]
  },
  {
   "cell_type": "code",
   "execution_count": 33,
   "metadata": {},
   "outputs": [
    {
     "name": "stdout",
     "output_type": "stream",
     "text": [
      "123321\n",
      "[1, 2, 3, 3, 2, 1]\n",
      "6\n",
      "6\n",
      "Lucky\n"
     ]
    }
   ],
   "source": [
    "ticket = list(map(int, input()))\n",
    "#Bu yerda list ni vazifasi kiritilgan raqamni alohida alohida ajratib olish\n",
    "#Agar list bulmasa bu oddiy str turli qator bulib qoladi\n",
    "#map ni vazifasi (int, input()) ni ishlatib beradi\n",
    "print (ticket)\n",
    "\n",
    "# Add up the digits for each half\n",
    "half1 = ticket[0]+ticket[1]+ticket[2]\n",
    "half2 = ticket[3]+ticket[4]+ticket[5]\n",
    "print(half1)\n",
    "print(half2)\n",
    "# Thanks to you, this code will work\n",
    "if half1 == half2:\n",
    "    print(\"Lucky\")\n",
    "else:\n",
    "    print(\"Ordinary\")\n",
    "    # ishlagan programma"
   ]
  },
  {
   "cell_type": "code",
   "execution_count": null,
   "metadata": {},
   "outputs": [],
   "source": []
  },
  {
   "cell_type": "code",
   "execution_count": null,
   "metadata": {},
   "outputs": [],
   "source": [
    "a = (1234567890 * 987654321) + 67890\n",
    "print(a)"
   ]
  },
  {
   "cell_type": "code",
   "execution_count": 20,
   "metadata": {},
   "outputs": [
    {
     "name": "stdout",
     "output_type": "stream",
     "text": [
      "Did that stop the old Grinch?\n",
      "No! The Grinch simply said,\n",
      "\"If I can't find a reindeer,\n",
      "I'll make one instead!\"\n"
     ]
    }
   ],
   "source": [
    "print(\"Did that stop the old Grinch?\")\n",
    "print(\"No! The Grinch simply said,\")\n",
    "print(r\"\"\"\"If I can't find a reindeer,\"\"\")\n",
    "print(\"I'll make one instead!\\\"\")"
   ]
  },
  {
   "cell_type": "code",
   "execution_count": 22,
   "metadata": {},
   "outputs": [
    {
     "name": "stdout",
     "output_type": "stream",
     "text": [
      "3\n",
      "14\n",
      "2\n"
     ]
    }
   ],
   "source": [
    "n = int(input())\n",
    "k = int(input())\n",
    "print(k%n)"
   ]
  },
  {
   "cell_type": "code",
   "execution_count": 29,
   "metadata": {},
   "outputs": [
    {
     "name": "stdout",
     "output_type": "stream",
     "text": [
      "476\n",
      "17\n"
     ]
    }
   ],
   "source": [
    "a=list(map(int, input()))\n",
    "s=a[0]+a[1]+a[2]\n",
    "print(s)"
   ]
  },
  {
   "cell_type": "code",
   "execution_count": 38,
   "metadata": {},
   "outputs": [
    {
     "name": "stdout",
     "output_type": "stream",
     "text": [
      "20\n",
      "21\n",
      "22\n",
      "31\n"
     ]
    }
   ],
   "source": [
    "a1 = int(input())\n",
    "a2 = int(input())\n",
    "a3 = int(input())\n",
    "clas1 = int((a1/2)+(a1%2))\n",
    "clas2 = int((a2/2)+(a2%2))\n",
    "clas3 = int((a3/2)+(a3%2))\n",
    "print(clas1+clas2+clas3)"
   ]
  },
  {
   "cell_type": "code",
   "execution_count": 28,
   "metadata": {},
   "outputs": [
    {
     "name": "stdout",
     "output_type": "stream",
     "text": [
      "soat1 1\n",
      "minut1 2\n",
      "sekund1 30\n",
      "soat2 1\n",
      "minut2 3\n",
      "sekund2 20\n",
      "jami sekund =  50\n"
     ]
    }
   ],
   "source": [
    "soat1 = int(input(\"soat1 \"))\n",
    "minut1 = int(input(\"minut1 \"))\n",
    "sekund1 = int(input(\"sekund1 \"))\n",
    "soat2 = int(input(\"soat2 \"))\n",
    "minut2 = int(input(\"minut2 \"))\n",
    "sekund2 = int(input(\"sekund2 \"))\n",
    "soat3 = soat2 - soat1\n",
    "minut3 = minut2 - minut1\n",
    "sekund3 = sekund2 - sekund1\n",
    "a = (soat3*60)*60\n",
    "b = minut3*60\n",
    "c = sekund3\n",
    "print(\"jami sekund = \", + abs((a+b+c)))\n",
    "\n",
    "# birinchi va ikkinch kiritilgan vaqt orasida qancha sekund borligini hisoblayda\n",
    "\n",
    "\n",
    "\n",
    "\n"
   ]
  },
  {
   "cell_type": "code",
   "execution_count": null,
   "metadata": {},
   "outputs": [],
   "source": [
    "a = list(map(int, input()))\n",
    "b=a[0]\n",
    "print(b)"
   ]
  },
  {
   "cell_type": "code",
   "execution_count": 10,
   "metadata": {},
   "outputs": [
    {
     "name": "stdout",
     "output_type": "stream",
     "text": [
      "1\n",
      "2\n",
      "False\n"
     ]
    }
   ],
   "source": [
    "set_number = 6557\n",
    "a, b = int(input()), int(input())\n",
    "c = a * b\n",
    "if c == set_number:\n",
    "    print(True)\n",
    "else:\n",
    "    print(False)"
   ]
  },
  {
   "cell_type": "code",
   "execution_count": 9,
   "metadata": {},
   "outputs": [
    {
     "name": "stdout",
     "output_type": "stream",
     "text": [
      "32\n",
      "32\n",
      "False\n"
     ]
    }
   ],
   "source": [
    "\n",
    "a = int(input())\n",
    "b = int(input())\n",
    "set_number = 6557\n",
    "c = a*b\n",
    "\n",
    "if c == set_number:\n",
    "    print(True)\n",
    "else:\n",
    "    print(False)\n",
    "    # ishlagan programma"
   ]
  },
  {
   "cell_type": "code",
   "execution_count": null,
   "metadata": {},
   "outputs": [],
   "source": [
    "set_number = 6557\n",
    "print(int(input()) * int(input()) == set_number)"
   ]
  },
  {
   "cell_type": "code",
   "execution_count": 11,
   "metadata": {},
   "outputs": [
    {
     "name": "stdout",
     "output_type": "stream",
     "text": [
      "1\n",
      "1\n",
      "1\n",
      "1\n",
      "1\n",
      "1\n",
      "0\n"
     ]
    }
   ],
   "source": [
    "# put your python code here\n",
    "hour1, min1, sec1 = (int(input()) * 3600), (int(input()) * 60), int(input())\n",
    "hour2, min2, sec2 = (int(input()) * 3600), (int(input()) * 60), int(input())\n",
    "print((hour2 + min2 + sec2) - (hour1 + min1 + sec1))\n",
    "# birinchi va ikkinch kiritilgan vaqt orasida qancha sekund borligini hisoblayda"
   ]
  },
  {
   "cell_type": "code",
   "execution_count": 15,
   "metadata": {},
   "outputs": [
    {
     "name": "stdout",
     "output_type": "stream",
     "text": [
      "25\n",
      "False\n"
     ]
    }
   ],
   "source": [
    "a = int(input().strip())\n",
    "if a < 10 or a > 250:\n",
    "    print(True)\n",
    "else:\n",
    "    print(False)"
   ]
  },
  {
   "cell_type": "code",
   "execution_count": 18,
   "metadata": {},
   "outputs": [
    {
     "name": "stdout",
     "output_type": "stream",
     "text": [
      "89\n",
      "9\n",
      "False\n"
     ]
    }
   ],
   "source": [
    "a = int(input()) % int(input()) \n",
    "if a == 0:\n",
    "    print(True)\n",
    "else:\n",
    "    print(False)"
   ]
  },
  {
   "cell_type": "code",
   "execution_count": 10,
   "metadata": {},
   "outputs": [
    {
     "name": "stdout",
     "output_type": "stream",
     "text": [
      "99\n",
      "3\n",
      "False\n"
     ]
    }
   ],
   "source": [
    "a = int(input())\n",
    "b = int(input())\n",
    "c = a % b \n",
    "if c > 1:\n",
    "    print(True)\n",
    "else:\n",
    "    print(False)\n"
   ]
  },
  {
   "cell_type": "code",
   "execution_count": 3,
   "metadata": {},
   "outputs": [
    {
     "name": "stdout",
     "output_type": "stream",
     "text": [
      "3\n",
      "36\n",
      "352\n",
      "True\n"
     ]
    }
   ],
   "source": [
    "a = int(input())\n",
    "b = int(input())\n",
    "d = int(input())\n",
    "s = a * b\n",
    "if s <= d:\n",
    "    print(True)\n",
    "else:\n",
    "    print(False)"
   ]
  },
  {
   "cell_type": "code",
   "execution_count": 15,
   "metadata": {},
   "outputs": [
    {
     "name": "stdout",
     "output_type": "stream",
     "text": [
      "1\n",
      "student\n",
      "1 student\n"
     ]
    }
   ],
   "source": [
    "number = int(input())\n",
    "word = input()\n",
    "\n",
    "# write a condition for plurals\n",
    "if number != 1:\n",
    "    print(number, word + \"s\")\n",
    "else:\n",
    "    print(number, word)"
   ]
  },
  {
   "cell_type": "code",
   "execution_count": 18,
   "metadata": {},
   "outputs": [
    {
     "name": "stdout",
     "output_type": "stream",
     "text": [
      "salt\n",
      "pasta time\n",
      "apple_pie time\n",
      "ratatouille time\n",
      "chocolate_cake time\n",
      "omelette time\n"
     ]
    }
   ],
   "source": [
    "pasta = \"tomato, basil, garlic, salt, pasta, olive oil\"\n",
    "apple_pie = \"apple, sugar, salt, cinnamon, flour, egg, butter\"\n",
    "ratatouille = \"aubergine, carrot, onion, tomato, garlic, olive oil, pepper, salt\"\n",
    "chocolate_cake = \"chocolate, sugar, salt, flour, coffee, butter\"\n",
    "omelette = \"egg, milk, bacon, tomato, salt, pepper\"\n",
    "ingredient = input()\n",
    "if ingredient in pasta:\n",
    "    print(\"pasta time\")\n",
    "if ingredient in apple_pie:\n",
    "    print(\"apple_pie time\")\n",
    "if ingredient in ratatouille:\n",
    "    print(\"ratatouille time\")\n",
    "if ingredient in chocolate_cake:\n",
    "    print(\"chocolate_cake time\")\n",
    "if ingredient in omelette:\n",
    "    print(\"omelette time\")"
   ]
  },
  {
   "cell_type": "code",
   "execution_count": 28,
   "metadata": {},
   "outputs": [
    {
     "name": "stdout",
     "output_type": "stream",
     "text": [
      "8\n",
      "24\n",
      "12\n",
      "8\n",
      "12\n",
      "24\n"
     ]
    }
   ],
   "source": [
    "a, b, c = int(input()), int(input()), int(input()) \n",
    "if a > b and b > c:\n",
    "    print(c)\n",
    "    print(b)\n",
    "    print(a)\n",
    "if b > a and a > c:\n",
    "    print(c)\n",
    "    print(a)\n",
    "    print(b)\n",
    "if c > a and a > b:\n",
    "    print(b)\n",
    "    print(a)\n",
    "    print(c)\n",
    "if b > c and c > a:\n",
    "    print(a)\n",
    "    print(c)\n",
    "    print(b)"
   ]
  },
  {
   "cell_type": "code",
   "execution_count": 29,
   "metadata": {},
   "outputs": [
    {
     "name": "stdout",
     "output_type": "stream",
     "text": [
      "12\n",
      "14\n",
      "16\n",
      "False\n"
     ]
    }
   ],
   "source": [
    "a, b, c = int(input()), int(input()), int(input()) \n",
    "if a > b and b > c:\n",
    "    print(True)\n",
    "else:\n",
    "    print(False)"
   ]
  },
  {
   "cell_type": "code",
   "execution_count": 29,
   "metadata": {},
   "outputs": [
    {
     "name": "stdout",
     "output_type": "stream",
     "text": [
      "0\n",
      "1\n",
      "2\n",
      "3\n",
      "4\n",
      "Now, the number is equal to 5\n"
     ]
    }
   ],
   "source": [
    "number = 0\n",
    "while number < 5:\n",
    "    print(number)\n",
    "    number += 1\n",
    "print('Now, the number is equal to 5')"
   ]
  },
  {
   "cell_type": "code",
   "execution_count": 51,
   "metadata": {},
   "outputs": [
    {
     "name": "stdout",
     "output_type": "stream",
     "text": [
      "4\n",
      "3\n",
      "4\n",
      "2.0\n",
      "Javob =  12\n"
     ]
    }
   ],
   "source": [
    "a = int(input())\n",
    "b = int(input())\n",
    "i=0\n",
    "while a >= b:\n",
    "    # while davomida degani. agar a > b bulsa wart bajarilaveradi\n",
    "    print(a)\n",
    "    a /= 2\n",
    "    i += 1\n",
    "print(a)\n",
    "print(\"Javob = \", int(i*12))"
   ]
  },
  {
   "cell_type": "code",
   "execution_count": 1,
   "metadata": {},
   "outputs": [
    {
     "name": "stdout",
     "output_type": "stream",
     "text": [
      "11\n",
      "66\n"
     ]
    }
   ],
   "source": [
    "k = int(input())\n",
    "n = 0\n",
    "s = 0\n",
    "while s <= k:\n",
    "    n += s\n",
    "    s += 1\n",
    "print(n)\n",
    "    # k gacha bulgan sonlar yigindisi"
   ]
  },
  {
   "cell_type": "code",
   "execution_count": 8,
   "metadata": {},
   "outputs": [
    {
     "name": "stdout",
     "output_type": "stream",
     "text": [
      "Aid\n",
      "2020\n",
      "Hello! My name is Aid.\n",
      "I was created in 2020\n"
     ]
    }
   ],
   "source": [
    "bot_name = input()\n",
    "birth_year = input()\n",
    "print(\"Hello! My name is\", bot_name + \".\")\n",
    "print(\"I was created in\", birth_year + \".\")"
   ]
  },
  {
   "cell_type": "code",
   "execution_count": 11,
   "metadata": {},
   "outputs": [
    {
     "name": "stdout",
     "output_type": "stream",
     "text": [
      "Hello! My name is Aid.\n",
      "I was created in 2020.\n",
      "Please, remind me your name.\n",
      ">Max\n",
      "What a great name you have, Max!\n"
     ]
    }
   ],
   "source": [
    "print('Hello! My name is Aid.')\n",
    "print('I was created in 2020.')\n",
    "print('Please, remind me your name.')\n",
    "your_name = input(\"> \")\n",
    "# reading a name\n",
    "\n",
    "print('What a great name you have,', your_name + '!')"
   ]
  },
  {
   "cell_type": "code",
   "execution_count": 14,
   "metadata": {},
   "outputs": [
    {
     "name": "stdout",
     "output_type": "stream",
     "text": [
      "Hello! My name is Aid.\n",
      "I was created in 2020.\n",
      "Please, remind me your name.\n",
      "Max\n",
      "What a great name you have, Max!\n",
      "Let me guess your age.\n",
      "Enter remainders of dividing your age by 3, 5 and 7.\n",
      "0\n",
      "0\n",
      "2\n",
      "Your age is 30 that's a good time to start programming!\n"
     ]
    }
   ],
   "source": [
    "print('Hello! My name is Aid.')\n",
    "print('I was created in 2020.')\n",
    "print('Please, remind me your name.')\n",
    "\n",
    "name = input()\n",
    "\n",
    "print('What a great name you have, ' + name + '!')\n",
    "print('Let me guess your age.')\n",
    "print('Enter remainders of dividing your age by 3, 5 and 7.')\n",
    "remainders3 = int(input())\n",
    "remainders5 = int(input())\n",
    "remainders7 = int(input())\n",
    "# reading all remainders\n",
    "your_age = (remainders3 * 70 + remainders5 * 21 + remainders7 * 15) % 105\n",
    "print(\"Your age is\", your_age, \"that's a good time to start programming!\")\n"
   ]
  },
  {
   "cell_type": "code",
   "execution_count": 19,
   "metadata": {},
   "outputs": [
    {
     "name": "stdout",
     "output_type": "stream",
     "text": [
      "Hello! My name is Aid.\n",
      "I was created in 2020.\n",
      "Please, remind me your name.\n",
      "redfs\n",
      "What a great name you have, redfs!\n",
      "Let me guess your age.\n",
      "Enter remainders of dividing your age by 3, 5 and 7.\n",
      "1\n",
      "2\n",
      "1\n",
      "Your age is 22; that's a good time to start programming!\n",
      "Now I will prove to you that I can count to any number you want.\n",
      "> 5\n",
      "0 !\n",
      "1 !\n",
      "2 !\n",
      "3 !\n",
      "4 !\n",
      "5 !\n",
      "Completed, have a nice day!\n"
     ]
    }
   ],
   "source": [
    "print('Hello! My name is Aid.')\n",
    "print('I was created in 2020.')\n",
    "print('Please, remind me your name.')\n",
    "\n",
    "name = input()\n",
    "\n",
    "print('What a great name you have, ' + name + '!')\n",
    "print('Let me guess your age.')\n",
    "print('Enter remainders of dividing your age by 3, 5 and 7.')\n",
    "\n",
    "rem3 = int(input())\n",
    "rem5 = int(input())\n",
    "rem7 = int(input())\n",
    "\n",
    "age = (rem3 * 70 + rem5 * 21 + rem7 * 15) % 105\n",
    "\n",
    "print(\"Your age is \" + str(age) + \"; that's a good time to start programming!\")\n",
    "print('Now I will prove to you that I can count to any number you want.')\n",
    "a = int(input(\"> \"))\n",
    "i = 0\n",
    "while i <= a:\n",
    "    print(i, \"!\")\n",
    "    i += 1\n",
    "\n",
    "# read a number and count to it here\n",
    "\n",
    "print('Completed, have a nice day!')"
   ]
  },
  {
   "cell_type": "code",
   "execution_count": 1,
   "metadata": {},
   "outputs": [
    {
     "name": "stdout",
     "output_type": "stream",
     "text": [
      "*\n",
      "**\n",
      "*\n",
      "*\n",
      "**\n",
      "*\n",
      "***\n",
      "*\n",
      "**\n",
      "***\n"
     ]
    }
   ],
   "source": [
    "i = 0\n",
    "while i < 5:\n",
    "    print('*')\n",
    "    if i % 2 == 0:\n",
    "        print('**')\n",
    "    if i > 2:\n",
    "        print('***')\n",
    "    i = i + 1"
   ]
  },
  {
   "cell_type": "code",
   "execution_count": 2,
   "metadata": {},
   "outputs": [
    {
     "name": "stdout",
     "output_type": "stream",
     "text": [
      "foo\n",
      "3\n"
     ]
    }
   ],
   "source": [
    "string = input()\n",
    "print(len(string))"
   ]
  },
  {
   "cell_type": "code",
   "execution_count": 3,
   "metadata": {},
   "outputs": [
    {
     "name": "stdout",
     "output_type": "stream",
     "text": [
      "<class 'builtin_function_or_method'>\n"
     ]
    }
   ],
   "source": [
    "print(type(print))"
   ]
  },
  {
   "cell_type": "code",
   "execution_count": 6,
   "metadata": {},
   "outputs": [
    {
     "name": "stdout",
     "output_type": "stream",
     "text": [
      "3\n",
      "5\n",
      "8\n"
     ]
    }
   ],
   "source": [
    "x = int(input())\n",
    "y = int(input())\n",
    "# the variables `x` and `y` are defined, so just print their sum\n",
    "print(sum((x, y)))"
   ]
  },
  {
   "cell_type": "code",
   "execution_count": 10,
   "metadata": {},
   "outputs": [
    {
     "name": "stdout",
     "output_type": "stream",
     "text": [
      "232.7778\n"
     ]
    }
   ],
   "source": [
    "def fahrenheit_to_celsius(temps_f):\n",
    "    temps_c = (temps_f - 32) * (5/9)\n",
    "    return round(temps_c, 3)\n",
    "# bu yerda round sonnin butun qismga muljallab  chiqaradi. masalan 232.6 = 233\n",
    "# agar round(temps_c, 3) deb yozilsa bu yerdagi 3 soni butun sonni nuqtasidan\n",
    "# keyin 3 ta soni chiqishligini anglatadi\n",
    "\n",
    "a = fahrenheit_to_celsius(451)\n",
    "print(a)\n",
    "    "
   ]
  },
  {
   "cell_type": "code",
   "execution_count": 14,
   "metadata": {},
   "outputs": [
    {
     "name": "stdout",
     "output_type": "stream",
     "text": [
      "captain Jack Sparrow\n"
     ]
    }
   ],
   "source": [
    "def captain_adder(name):\n",
    "    print(\"captain\", name)\n",
    "captain_adder(\"Jack Sparrow\")"
   ]
  },
  {
   "cell_type": "code",
   "execution_count": 12,
   "metadata": {},
   "outputs": [
    {
     "name": "stdout",
     "output_type": "stream",
     "text": [
      "Sending a postcard to Hilton, 97\n",
      "With the message: Hello, bro!\n"
     ]
    }
   ],
   "source": [
    "def send_postcard(address, message):\n",
    "    print(\"Sending a postcard to\", address)\n",
    "    print(\"With the message:\", message)\n",
    "\n",
    "send_postcard(\"Hilton, 97\", \"Hello, bro!\")\n",
    "\n",
    "\n"
   ]
  },
  {
   "cell_type": "code",
   "execution_count": 15,
   "metadata": {},
   "outputs": [
    {
     "name": "stdout",
     "output_type": "stream",
     "text": [
      "<class 'int'>\n"
     ]
    }
   ],
   "source": [
    "a = \"Tuesday\"\n",
    "b = 10\n",
    "a = b\n",
    "b = a\n",
    "print(type(b))"
   ]
  },
  {
   "cell_type": "code",
   "execution_count": 16,
   "metadata": {},
   "outputs": [
    {
     "name": "stdout",
     "output_type": "stream",
     "text": [
      "python\n",
      "['p', 'y', 't', 'h', 'o', 'n']\n"
     ]
    }
   ],
   "source": [
    "input_str = input()\n",
    "print(list(input_str))"
   ]
  },
  {
   "cell_type": "code",
   "execution_count": 18,
   "metadata": {},
   "outputs": [
    {
     "name": "stdout",
     "output_type": "stream",
     "text": [
      "aa\n",
      "Correct\n"
     ]
    }
   ],
   "source": [
    "dictionary = [\"aa\", \"abab\", \"aac\", \"ba\", \"bac\", \"baba\", \"cac\", \"caac\"]\n",
    "a = input()\n",
    "if a in dictionary:\n",
    "    print(\"Correct\")\n",
    "else:\n",
    "    print(\"Incorrect\")"
   ]
  },
  {
   "cell_type": "code",
   "execution_count": 20,
   "metadata": {},
   "outputs": [
    {
     "name": "stdout",
     "output_type": "stream",
     "text": [
      "Have you had enough hours of sleep today?\n",
      "no\n",
      "I'd recommend a coffee!\n"
     ]
    }
   ],
   "source": [
    "print(\"Have you had enough hours of sleep today?\")\n",
    "answer = input()\n",
    "print(\"Let's drink cocoa!\" if answer == \"yes\" else \"I'd recommend a coffee!\")"
   ]
  },
  {
   "cell_type": "code",
   "execution_count": 25,
   "metadata": {},
   "outputs": [
    {
     "name": "stdout",
     "output_type": "stream",
     "text": [
      "7\n",
      "9\n",
      "5\n",
      "Deficiency\n"
     ]
    }
   ],
   "source": [
    "A, B, H = (int(input()), int(input()), int(input()))\n",
    "if H >= A and H <= B:\n",
    "    print(\"Normal\")\n",
    "if H < A:\n",
    "    print(\"Deficiency\")\n",
    "if H > B:\n",
    "    print(\"Excess\")"
   ]
  },
  {
   "cell_type": "code",
   "execution_count": 35,
   "metadata": {},
   "outputs": [
    {
     "name": "stdout",
     "output_type": "stream",
     "text": [
      "Hello! My name is Aid.\n",
      "I was created in 2020.\n",
      "Please, remind me your name.\n",
      "Max\n",
      "What a great name you have, Max!\n",
      "Let me guess your age.\n",
      "Enter remainders of dividing your age by 3, 5 and 7.\n",
      "1\n",
      "2\n",
      "1\n",
      "Your age is 22; that's a good time to start programming!\n",
      "Now I will prove to you that I can count to any number you want.\n",
      "5\n",
      "0 !\n",
      "1 !\n",
      "2 !\n",
      "3 !\n",
      "4 !\n",
      "5 !\n",
      "Let's test your programming knowledge.\n",
      "Why do we use methods?\n",
      "1. To repeat a statement multiple times.\n",
      "    2. To decompose a program into several small subroutines.\n",
      "    3. To determine the execution time of a program.\n",
      "    4. To interrupt the execution of a program.\n",
      "1\n",
      "Please, try again.\n",
      "3\n",
      "Please, try again.\n",
      "4\n",
      "Please, try again.\n",
      "2\n",
      "Completed, have a nice day!\n",
      "Congratulations, have a nice day!\n"
     ]
    }
   ],
   "source": [
    "def greet(bot_name, birth_year):\n",
    "    print('Hello! My name is ' + bot_name + '.')\n",
    "    print('I was created in ' + birth_year + '.')\n",
    "\n",
    "\n",
    "def remind_name():\n",
    "    print('Please, remind me your name.')\n",
    "    name = input()\n",
    "    print('What a great name you have, ' + name + '!')\n",
    "\n",
    "\n",
    "def guess_age():\n",
    "    print('Let me guess your age.')\n",
    "    print('Enter remainders of dividing your age by 3, 5 and 7.')\n",
    "\n",
    "    rem3 = int(input())\n",
    "    rem5 = int(input())\n",
    "    rem7 = int(input())\n",
    "    age = (rem3 * 70 + rem5 * 21 + rem7 * 15) % 105\n",
    "\n",
    "    print(\"Your age is \" + str(age) + \"; that's a good time to start programming!\")\n",
    "\n",
    "\n",
    "def count():\n",
    "    print('Now I will prove to you that I can count to any number you want.')\n",
    "\n",
    "    num = int(input())\n",
    "    curr = 0\n",
    "    while curr <= num:\n",
    "        print(curr, '!')\n",
    "        curr = curr + 1\n",
    "\n",
    "\n",
    "def test():\n",
    "    print(\"Let's test your programming knowledge.\")\n",
    "    print(\"Why do we use methods?\")\n",
    "    print(r'''1. To repeat a statement multiple times.\n",
    "    2. To decompose a program into several small subroutines.\n",
    "    3. To determine the execution time of a program.\n",
    "    4. To interrupt the execution of a program.''')\n",
    "    exit = 1\n",
    "    while exit == 1:\n",
    "        answer = int(input())\n",
    "        if answer == 1 or answer == 3 or answer == 4:\n",
    "            print(\"Please, try again.\")\n",
    "        if answer == 2:\n",
    "            exit = 0\n",
    "            print(\"Completed, have a nice day!\")\n",
    "        \n",
    "def end():\n",
    "    print('Congratulations, have a nice day!')\n",
    "\n",
    "greet('Aid', '2020')  \n",
    "remind_name()\n",
    "guess_age()\n",
    "count()\n",
    "test()\n",
    "end()"
   ]
  },
  {
   "cell_type": "code",
   "execution_count": 36,
   "metadata": {},
   "outputs": [
    {
     "name": "stdout",
     "output_type": "stream",
     "text": [
      "Hello! My name is Wall-E.\n",
      "I was created in 2021.\n",
      "Please, remind me your name.\n",
      "ax\n",
      "What a great name you have, ax!\n",
      "Let me guess your age.\n",
      "Enter remainders of dividing your age by 3, 5 and 7.\n",
      "1\n",
      "2\n",
      "1\n",
      "Your age is 22; that's a good time to start programming!\n",
      "Now I will prove to you that I can count to any number you want.\n",
      "2\n",
      "0 !\n",
      "1 !\n",
      "2 !\n",
      "Let's test your programming knowledge.\n",
      "Why do we use methods?\n",
      "1. To repeat a statement multiple times.\n",
      "2. To decompose a program into several small subroutines.\n",
      "3. To determine the execution time of a program.\n",
      "4. To interrupt the execution of a program.\n",
      "1\n",
      "Please, try again.\n",
      "3\n",
      "Please, try again.\n",
      "4\n",
      "Please, try again.\n",
      "2\n",
      "Completed, have a nice day!\n",
      "Congratulations, have a nice day!\n"
     ]
    }
   ],
   "source": [
    "def test():\n",
    "    print(\"Let's test your programming knowledge.\")\n",
    "    # write your code here\n",
    "    print('Why do we use methods?')\n",
    "    print('1. To repeat a statement multiple times.\\n2. To decompose a program into several small subroutines.\\n'\n",
    "          '3. To determine the execution time of a program.\\n4. To interrupt the execution of a program.')\n",
    "    choice = int(input())\n",
    "    while choice != 2:\n",
    "        print('Please, try again.')\n",
    "        choice = int(input())\n",
    "    print('Completed, have a nice day!')\n",
    "\n"
   ]
  },
  {
   "cell_type": "code",
   "execution_count": null,
   "metadata": {},
   "outputs": [],
   "source": []
  }
 ],
 "metadata": {
  "kernelspec": {
   "display_name": "Python 3",
   "language": "python",
   "name": "python3"
  },
  "language_info": {
   "codemirror_mode": {
    "name": "ipython",
    "version": 3
   },
   "file_extension": ".py",
   "mimetype": "text/x-python",
   "name": "python",
   "nbconvert_exporter": "python",
   "pygments_lexer": "ipython3",
   "version": "3.8.5"
  }
 },
 "nbformat": 4,
 "nbformat_minor": 4
}
